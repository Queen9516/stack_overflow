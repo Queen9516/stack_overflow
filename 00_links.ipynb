{
 "cells": [
  {
   "cell_type": "markdown",
   "metadata": {},
   "source": [
    "- **pandas.DataFrame.rename** https://pandas.pydata.org/pandas-docs/stable/reference/api/pandas.DataFrame.rename.html\n",
    "- **ast.literal_eval** https://docs.python.org/3/library/ast.html#ast.literal_eval\n",
    "- **pandas.json_normalize** https://pandas.pydata.org/pandas-docs/stable/reference/api/pandas.json_normalize.html\n",
    "- **pandas.DataFrame.groupby** https://pandas.pydata.org/pandas-docs/stable/reference/api/pandas.DataFrame.groupby.html\n",
    "- **pandas.core.groupby.GroupBy.apply** https://pandas.pydata.org/pandas-docs/stable/reference/api/pandas.core.groupby.GroupBy.apply.html\n",
    "- **pandas.get_dummies** https://pandas.pydata.org/pandas-docs/stable/reference/api/pandas.get_dummies.html\n",
    "- **pandas.DataFrame.explode** https://pandas.pydata.org/pandas-docs/stable/reference/api/pandas.DataFrame.explode.html\n",
    "- **pandas.Series.str.split** https://pandas.pydata.org/pandas-docs/stable/reference/api/pandas.Series.str.split.html\n",
    "- **pandas.core.groupby.GroupBy.sum** https://pandas.pydata.org/pandas-docs/stable/reference/api/pandas.core.groupby.GroupBy.sum.html\n",
    "- **pandas.DataFrame.drop** https://pandas.pydata.org/pandas-docs/stable/reference/api/pandas.DataFrame.drop.html\n",
    "- **pandas.DataFrame.join** https://pandas.pydata.org/pandas-docs/stable/reference/api/pandas.DataFrame.join.html\n",
    "- **pandas.read_csv** https://pandas.pydata.org/pandas-docs/stable/reference/api/pandas.read_csv.html\n",
    "- **pandas.DataFrame.stack** https://pandas.pydata.org/pandas-docs/stable/reference/api/pandas.DataFrame.stack.html\n",
    "- **pandas.DataFrame.reset_index** https://pandas.pydata.org/pandas-docs/stable/reference/api/pandas.DataFrame.reset_index.html\n",
    "- **pandas.DataFrame.apply** https://pandas.pydata.org/pandas-docs/stable/reference/api/pandas.DataFrame.apply.html\n",
    "- **map** https://docs.python.org/3/library/functions.html#map\n",
    "- **list** https://docs.python.org/3/library/functions.html#func-list\n",
    "- **pathlib** https://docs.python.org/3/library/pathlib.html\n",
    "- **pandas.concat** https://pandas.pydata.org/pandas-docs/stable/reference/api/pandas.concat.html\n",
    "- **pandas.DataFrame.mean** https://pandas.pydata.org/pandas-docs/stable/reference/api/pandas.DataFrame.mean.html\n",
    "- **pandas.DataFrame.round** https://pandas.pydata.org/pandas-docs/stable/reference/api/pandas.DataFrame.round.html\n",
    "- **pandas.read_html** https://pandas.pydata.org/pandas-docs/stable/reference/api/pandas.read_html.html\n",
    "- **pandas.read_csv** https://pandas.pydata.org/pandas-docs/stable/reference/api/pandas.read_csv.html\n",
    "- **pandas.DataFrame.merge** https://pandas.pydata.org/pandas-docs/stable/reference/api/pandas.DataFrame.merge.html\n",
    "- **pandas.merge** https://pandas.pydata.org/pandas-docs/stable/reference/api/pandas.merge.html#pandas.merge\n",
    "- **pandas: Indexing and Selecting Data** https://pandas.pydata.org/pandas-docs/stable/user_guide/indexing.html#indexing-and-selecting-data\n",
    "- **pandas: Merge, join, concatenate and compare** https://pandas.pydata.org/pandas-docs/stable/user_guide/merging.html"
   ]
  },
  {
   "cell_type": "code",
   "execution_count": null,
   "metadata": {},
   "outputs": [],
   "source": []
  }
 ],
 "metadata": {
  "kernelspec": {
   "display_name": "Python 3",
   "language": "python",
   "name": "python3"
  },
  "language_info": {
   "codemirror_mode": {
    "name": "ipython",
    "version": 3
   },
   "file_extension": ".py",
   "mimetype": "text/x-python",
   "name": "python",
   "nbconvert_exporter": "python",
   "pygments_lexer": "ipython3",
   "version": "3.8.5"
  }
 },
 "nbformat": 4,
 "nbformat_minor": 4
}
