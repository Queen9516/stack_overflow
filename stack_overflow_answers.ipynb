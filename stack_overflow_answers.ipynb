{
 "cells": [
  {
   "cell_type": "markdown",
   "metadata": {},
   "source": [
    "## Code to search the contents for all of your SO answers\n",
    "\n",
    "- File with\n",
    "  - Tags\n",
    "  - Title\n",
    "  - ViewCount\n",
    "  - Score\n",
    "  - Answer ID\n",
    "  - Accepted Answer Id\n",
    "  - Answer Body"
   ]
  },
  {
   "cell_type": "code",
   "execution_count": null,
   "metadata": {},
   "outputs": [],
   "source": [
    "import pandas as pd\n",
    "from IPython.display import HTML"
   ]
  },
  {
   "cell_type": "code",
   "execution_count": null,
   "metadata": {},
   "outputs": [],
   "source": [
    "pd.set_option('display.max_columns', 700)\n",
    "pd.set_option('display.max_rows', 400)\n",
    "pd.set_option('display.min_rows', 10)\n",
    "pd.set_option('display.expand_frame_repr', True)"
   ]
  },
  {
   "cell_type": "markdown",
   "metadata": {},
   "source": [
    "- Perform query at [StackExchange Data Explorer][sede] with the following query, using your Stack Overflow user ID\n",
    "\n",
    "```sql\n",
    "SELECT \n",
    "    Ans.CreationDate, Qus.Tags, Qus.Title, Qus.ViewCount,\n",
    "    Ans.Score, Ans.ID, Qus.AcceptedAnswerId\n",
    "FROM Posts as Qus\n",
    "LEFT JOIN Posts as Ans\n",
    "ON Qus.ID = Ans.ParentID\n",
    "WHERE Ans.OwnerUserId = ##UserId##\n",
    "ORDER BY Ans.CreationDate DESC\n",
    "```\n",
    "\n",
    "- Save the file as `'so_QueryResults.csv'`\n",
    "\n",
    "  [sede]: https://data.stackexchange.com/stackoverflow/query/new"
   ]
  },
  {
   "cell_type": "code",
   "execution_count": null,
   "metadata": {},
   "outputs": [],
   "source": [
    "# load file\n",
    "so = pd.read_csv('so_QueryResults.csv', dtype={'ID': int, 'AcceptedAnswerId': str})"
   ]
  },
  {
   "cell_type": "code",
   "execution_count": null,
   "metadata": {},
   "outputs": [],
   "source": [
    "so.CreationDate = pd.to_datetime(so.CreationDate).dt.date"
   ]
  },
  {
   "cell_type": "code",
   "execution_count": null,
   "metadata": {},
   "outputs": [],
   "source": [
    "so.AcceptedAnswerId.fillna(value=0, inplace=True)  # replace NaN with 0\n",
    "so.AcceptedAnswerId = so.AcceptedAnswerId.astype(int)  # convert from float to int\n",
    "so['Accepted'] = so.ID == so.AcceptedAnswerId  # add a Boolean column True if your answer is the accepted answer"
   ]
  },
  {
   "cell_type": "code",
   "execution_count": null,
   "metadata": {},
   "outputs": [],
   "source": [
    "# using the answer id, create a link to your answer\n",
    "so['Answer Link'] = so[['ID', 'Title']].apply(lambda x: f'<a href=\"https://stackoverflow.com/questions/{x[0]}\">{x[1]}</a>', axis=1)"
   ]
  },
  {
   "cell_type": "code",
   "execution_count": null,
   "metadata": {},
   "outputs": [],
   "source": [
    "so.drop(columns=['ID', 'AcceptedAnswerId', 'Title'], inplace=True)"
   ]
  },
  {
   "cell_type": "code",
   "execution_count": null,
   "metadata": {},
   "outputs": [],
   "source": [
    "so.Tags = so.Tags.str.replace('><', ' ').str.replace('<|>', '').str.split()"
   ]
  },
  {
   "cell_type": "code",
   "execution_count": null,
   "metadata": {},
   "outputs": [],
   "source": [
    "so.head()"
   ]
  },
  {
   "cell_type": "code",
   "execution_count": null,
   "metadata": {},
   "outputs": [],
   "source": [
    "# sort by ViewCount\n",
    "# so = so.sort_values(['ViewCount'], ascending=False)  # ['Accepted', 'Score', 'ViewCount']  \n",
    "# so.head(100)"
   ]
  },
  {
   "cell_type": "code",
   "execution_count": null,
   "metadata": {},
   "outputs": [],
   "source": [
    "# sort by Accepted and CreationDate\n",
    "# so = so.sort_values(['Accepted', 'CreationDate'], ascending=False).reset_index(drop=True)\n",
    "# so.head(100)"
   ]
  },
  {
   "cell_type": "code",
   "execution_count": null,
   "metadata": {},
   "outputs": [],
   "source": [
    "# various filters for search the Body of the answer\n",
    "son = so[so.Body.str.lower().str.contains('matplotlib', regex=False)]\n",
    "son = son[son.Body.str.lower().str.contains('bar', regex=False)]\n",
    "son = son[son.Body.str.lower().str.contains('patch(color', regex=False)]\n",
    "son"
   ]
  },
  {
   "cell_type": "code",
   "execution_count": null,
   "metadata": {},
   "outputs": [],
   "source": [
    "so = so.drop(columns=['Body'])  # drop Body of the html will be a mess"
   ]
  },
  {
   "cell_type": "code",
   "execution_count": null,
   "metadata": {},
   "outputs": [],
   "source": [
    "HTML(so.to_html('so_answers.html', escape=False))  # html to a file"
   ]
  },
  {
   "cell_type": "code",
   "execution_count": null,
   "metadata": {},
   "outputs": [],
   "source": [
    "HTML(so.to_html(escape=False))  # html displayed in notebook"
   ]
  },
  {
   "cell_type": "code",
   "execution_count": null,
   "metadata": {},
   "outputs": [],
   "source": []
  }
 ],
 "metadata": {
  "kernelspec": {
   "display_name": "Python 3",
   "language": "python",
   "name": "python3"
  },
  "language_info": {
   "codemirror_mode": {
    "name": "ipython",
    "version": 3
   },
   "file_extension": ".py",
   "mimetype": "text/x-python",
   "name": "python",
   "nbconvert_exporter": "python",
   "pygments_lexer": "ipython3",
   "version": "3.8.5"
  }
 },
 "nbformat": 4,
 "nbformat_minor": 4
}
