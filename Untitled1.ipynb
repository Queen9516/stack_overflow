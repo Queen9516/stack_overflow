{
 "cells": [
  {
   "cell_type": "markdown",
   "metadata": {},
   "source": [
    "https://stackoverflow.com/questions/52279699/python-for-loop-millions-of-rows"
   ]
  },
  {
   "cell_type": "code",
   "execution_count": null,
   "metadata": {},
   "outputs": [],
   "source": [
    "import numpy as np\n",
    "import pandas as pd\n",
    "import io\n",
    "from pprint import pprint as pp"
   ]
  },
  {
   "cell_type": "code",
   "execution_count": null,
   "metadata": {},
   "outputs": [],
   "source": [
    "s = '''\n",
    " A_D     Operator     FlightID    Terminal   TROUND_ID   tot\n",
    " A   QR  QR001   4   QR002       70\n",
    " D   DL  DL001   3   \"        \"  84\n",
    " D   DL  DL001   3   \"        \"  78\n",
    " D   VS  VS001   3   \"        \"  45\n",
    " A   DL  DL401   3   \"        \"  9\n",
    " A   DL  DL401   3   \"        \"  19\n",
    " A   DL  DL401   3   \"        \"  3\n",
    " A   DL  DL401   3   \"        \"  32\n",
    " A   DL  DL401   3   \"        \"  95\n",
    " A   DL  DL402   3   \"        \"  58\n",
    "'''\n",
    "\n",
    "data_aux = pd.read_table(io.StringIO(s), delim_whitespace=True)\n",
    "data_aux.Terminal = data_aux.Terminal.astype(str)\n",
    "data_aux.tot= data_aux.tot.astype(str)"
   ]
  },
  {
   "cell_type": "code",
   "execution_count": null,
   "metadata": {},
   "outputs": [],
   "source": [
    "data_aux"
   ]
  },
  {
   "cell_type": "code",
   "execution_count": null,
   "metadata": {},
   "outputs": [],
   "source": [
    "d = {'START': ['2017-03-26 16:55:00', '2017-03-26 09:30:00','2017-03-27 09:30:00','2017-10-08 15:15:00',\n",
    "           '2017-03-26 06:50:00','2017-03-27 06:50:00','2017-03-29 06:50:00','2017-05-03 06:50:00',\n",
    "           '2017-06-25 06:50:00','2017-03-26 07:45:00'], 'END': ['2017-10-28 16:55:00' ,'2017-06-11 09:30:00' ,\n",
    "           '2017-10-28 09:30:00' ,'2017-10-22 15:15:00','2017-06-11 06:50:00' ,'2017-10-28 06:50:00', \n",
    "           '2017-04-19 06:50:00' ,'2017-10-25 06:50:00','2017-10-22 06:50:00' ,'2017-10-28 07:45:00']}    \n",
    "\n",
    "aux_df = pd.DataFrame(data=d)\n",
    "aux_df.START = pd.to_datetime(aux_df.START)\n",
    "aux_df.END = pd.to_datetime(aux_df.END)\n"
   ]
  },
  {
   "cell_type": "code",
   "execution_count": null,
   "metadata": {},
   "outputs": [],
   "source": [
    "aux_df"
   ]
  },
  {
   "cell_type": "code",
   "execution_count": null,
   "metadata": {},
   "outputs": [],
   "source": [
    "c = pd.concat([aux_df, data_aux], axis = 1)\n",
    "c['A_D'] = c['A_D'].astype(str)\n",
    "c['Operator'] = c['Operator'].astype(str)\n",
    "c['Terminal'] = c['Terminal'].astype(str)\n",
    "\n",
    "c['hour'] = pd.to_datetime(c['START'], format='%H:%M').dt.time\n",
    "c['hour_aux'] = pd.to_datetime(c['START'] - pd.Timedelta(15, unit='m'), \n",
    "format='%H:%M').dt.time\n",
    "c['start_day'] = c['START'].astype(str).str[0:10]\n",
    "c['end_day'] = c['END'].astype(str).str[0:10]\n",
    "c['x'] = c.START -  pd.to_timedelta(c.tot.astype(int), unit='m')\n",
    "c[\"a\"] = 0\n",
    "c[\"Already_linked\"] = np.where(c.TROUND_ID != \"        \", 1 ,0)\n",
    "\n",
    "arr = c[c['A_D'] == 'A'].copy()"
   ]
  },
  {
   "cell_type": "code",
   "execution_count": null,
   "metadata": {},
   "outputs": [],
   "source": [
    "c"
   ]
  },
  {
   "cell_type": "code",
   "execution_count": null,
   "metadata": {},
   "outputs": [],
   "source": [
    "arr"
   ]
  },
  {
   "cell_type": "code",
   "execution_count": null,
   "metadata": {},
   "outputs": [],
   "source": [
    "groups = arr.groupby(['Operator', 'Terminal'])"
   ]
  },
  {
   "cell_type": "code",
   "execution_count": null,
   "metadata": {},
   "outputs": [],
   "source": [
    "for row in c[(c.A_D == \"D\") & (c.Already_linked == 0)].itertuples():\n",
    "    try:\n",
    "        g = groups.get_group((row.Operator, row.Terminal))\n",
    "        vb = g[(g.Already_linked==0) & (g.hour<row.hour_aux)]\n",
    "        aux = (vb.START - row.x).abs().idxmin()\n",
    "        print('Aux: ', aux)\n",
    "        print('row index: ', row.Index)\n",
    "        c.loc[row.Index, 'a'] = vb.loc[aux].FlightID\n",
    "        arr.loc[aux, 'Already_linked'] = 1\n",
    "        continue\n",
    "    except:\n",
    "        continue"
   ]
  },
  {
   "cell_type": "code",
   "execution_count": null,
   "metadata": {},
   "outputs": [],
   "source": [
    "arr"
   ]
  },
  {
   "cell_type": "code",
   "execution_count": null,
   "metadata": {},
   "outputs": [],
   "source": [
    "c"
   ]
  },
  {
   "cell_type": "code",
   "execution_count": null,
   "metadata": {},
   "outputs": [],
   "source": [
    "def do_g(row):\n",
    "    holder = arr[(arr.Operator == row.Operator) & (arr.Terminal == row.Terminal) & (arr.Already_linked == 0) & (arr.hour < row.hour_aux)]\n",
    "    if not holder.empty:\n",
    "\n",
    "#         holder['aux'] = (holder.START - row.x).abs().idxmin()\n",
    "        aux = (holder.START - row.x).abs().idxmin()\n",
    "        \n",
    "        print('Aux: ', aux)\n",
    "#         c.loc[row.name, 'a'] = holder.loc[holder.aux].FlightID\n",
    "        c.loc[row.name, 'a'] = holder.loc[aux].FlightID\n",
    "#         arr.loc[holder.aux, 'Already_linked'] = 1\n",
    "        arr.loc[aux, 'Already_linked'] = 1\n",
    "    \n",
    "        return holder"
   ]
  },
  {
   "cell_type": "code",
   "execution_count": null,
   "metadata": {},
   "outputs": [],
   "source": [
    "keep = {'A_D': ['D'], 'Already_linked': [0]}"
   ]
  },
  {
   "cell_type": "code",
   "execution_count": null,
   "metadata": {},
   "outputs": [],
   "source": [
    "df_test = c[c[list(keep)].isin(keep).all(axis=1)].copy()  # returns the resultant df\n",
    "df_test"
   ]
  },
  {
   "cell_type": "code",
   "execution_count": null,
   "metadata": {},
   "outputs": [],
   "source": [
    "g = df_test[df_test.apply(lambda row: do_g(row), axis=1)]  # g is multiple DataFrames"
   ]
  },
  {
   "cell_type": "code",
   "execution_count": null,
   "metadata": {},
   "outputs": [],
   "source": [
    "arr"
   ]
  },
  {
   "cell_type": "code",
   "execution_count": null,
   "metadata": {},
   "outputs": [],
   "source": [
    "c"
   ]
  },
  {
   "cell_type": "code",
   "execution_count": null,
   "metadata": {},
   "outputs": [],
   "source": [
    "g.index"
   ]
  },
  {
   "cell_type": "code",
   "execution_count": null,
   "metadata": {},
   "outputs": [],
   "source": [
    "g[1]"
   ]
  },
  {
   "cell_type": "code",
   "execution_count": null,
   "metadata": {},
   "outputs": [],
   "source": [
    "g[1]['START']"
   ]
  },
  {
   "cell_type": "code",
   "execution_count": null,
   "metadata": {},
   "outputs": [],
   "source": []
  },
  {
   "cell_type": "code",
   "execution_count": null,
   "metadata": {},
   "outputs": [],
   "source": [
    "del[g[3]]"
   ]
  },
  {
   "cell_type": "code",
   "execution_count": null,
   "metadata": {},
   "outputs": [],
   "source": []
  },
  {
   "cell_type": "code",
   "execution_count": null,
   "metadata": {},
   "outputs": [],
   "source": [
    "g"
   ]
  },
  {
   "cell_type": "code",
   "execution_count": null,
   "metadata": {},
   "outputs": [],
   "source": [
    "type(g)"
   ]
  },
  {
   "cell_type": "code",
   "execution_count": null,
   "metadata": {},
   "outputs": [],
   "source": [
    "df_test.iloc[[0]].x"
   ]
  },
  {
   "cell_type": "code",
   "execution_count": null,
   "metadata": {},
   "outputs": [],
   "source": []
  },
  {
   "cell_type": "code",
   "execution_count": null,
   "metadata": {},
   "outputs": [],
   "source": []
  },
  {
   "cell_type": "code",
   "execution_count": null,
   "metadata": {},
   "outputs": [],
   "source": [
    "df_test"
   ]
  },
  {
   "cell_type": "code",
   "execution_count": null,
   "metadata": {},
   "outputs": [],
   "source": [
    "c.loc[1, 'a']"
   ]
  },
  {
   "cell_type": "code",
   "execution_count": null,
   "metadata": {},
   "outputs": [],
   "source": []
  },
  {
   "cell_type": "code",
   "execution_count": null,
   "metadata": {},
   "outputs": [],
   "source": []
  },
  {
   "cell_type": "code",
   "execution_count": null,
   "metadata": {},
   "outputs": [],
   "source": [
    "df['Already_linked'] = np.where((df.a != 0) & (df.a != 'No_link_found') & (df.A_D == 'D'), 1, df['Already_linked'])\n",
    "df.Already_linked.loc[arr.Already_linked.index] = arr.Already_linked\n",
    "df['a'] = np.where((df.Already_linked  == 0) & (df.A_D == 'D'),'No_link_found',df['a'])"
   ]
  },
  {
   "cell_type": "code",
   "execution_count": null,
   "metadata": {},
   "outputs": [],
   "source": []
  },
  {
   "cell_type": "code",
   "execution_count": null,
   "metadata": {},
   "outputs": [],
   "source": []
  },
  {
   "cell_type": "code",
   "execution_count": null,
   "metadata": {},
   "outputs": [],
   "source": [
    "groups.get_group(('DL', '3'))"
   ]
  },
  {
   "cell_type": "code",
   "execution_count": null,
   "metadata": {},
   "outputs": [],
   "source": [
    "for row in c[(c.A_D == \"D\") & (c.Already_linked == 0)].itertuples():\n",
    "    print(list(row))"
   ]
  },
  {
   "cell_type": "code",
   "execution_count": null,
   "metadata": {},
   "outputs": [],
   "source": []
  }
 ],
 "metadata": {
  "kernelspec": {
   "display_name": "Python 3",
   "language": "python",
   "name": "python3"
  },
  "language_info": {
   "codemirror_mode": {
    "name": "ipython",
    "version": 3
   },
   "file_extension": ".py",
   "mimetype": "text/x-python",
   "name": "python",
   "nbconvert_exporter": "python",
   "pygments_lexer": "ipython3",
   "version": "3.6.6"
  }
 },
 "nbformat": 4,
 "nbformat_minor": 2
}
