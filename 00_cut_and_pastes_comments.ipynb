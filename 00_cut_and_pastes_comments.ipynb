{
 "cells": [
  {
   "cell_type": "markdown",
   "metadata": {},
   "source": [
    "# Voting & Accepting Answers"
   ]
  },
  {
   "cell_type": "markdown",
   "metadata": {},
   "source": [
    "FYI: Thoroughly answering questions is time-consuming. If your question is **solved**, say thank you by _**accepting** the solution that is **best for your needs**._ The **✔** is below the **▲/▼** arrow, at the top left of the answer. A new solution can be accepted if a better one shows up. You may also vote on the usefulness of an answer, with the **▲/▼** arrow, if you have a 15+ reputation. **Leave a comment if a solution doesn't answer the question.** [What should I do when someone answers my question?](https://stackoverflow.com/help/someone-answers). Thank you."
   ]
  },
  {
   "cell_type": "markdown",
   "metadata": {},
   "source": [
    "Hopefully the answer is helpful. Thoroughly answering questions is time-consuming. If your question is **solved**, please _**accept** the solution_. The **✔** is below the **▲/▼** arrow, at the top left of the answer. A new solution can be accepted if a better one shows up. You may also vote on the usefulness of an answer, with the **▲/▼** arrow, if you have a 15+ reputation. **Leave a comment if a solution doesn't answer the question.** [What should I do when someone answers my question?](https://stackoverflow.com/help/someone-answers). Thank you."
   ]
  },
  {
   "cell_type": "markdown",
   "metadata": {},
   "source": [
    "FYI: Thoroughly answering questions is time-consuming. If your question is **solved**, say thank you by _**accepting** the solution that is **best for your needs**._ The **✔** is below the **▲/▼** arrow at the top left of the answer. A new solution can be accepted if a better one shows up. You may also vote on the usefulness of an answer, with the **▲/▼** arrow. **Leave a comment if a solution doesn't answer the question.** [What should I do when someone answers my question?](https://stackoverflow.com/help/someone-answers). Thank you."
   ]
  },
  {
   "cell_type": "markdown",
   "metadata": {},
   "source": [
    "If your question is **solved**, please _**accept** the solution._ The **✔** is below the up/down arrows, at the top left of the answer."
   ]
  },
  {
   "cell_type": "markdown",
   "metadata": {},
   "source": [
    "If the question is **solved**, please **accept** the best answer for your needs, by clicking the **✔** near the upper left corner of the answer, or leave a comment if it isn't, as per [What should I do when someone answers my question?](https://stackoverflow.com/help/someone-answers)"
   ]
  },
  {
   "cell_type": "markdown",
   "metadata": {},
   "source": [
    "# Questions"
   ]
  },
  {
   "cell_type": "markdown",
   "metadata": {},
   "source": [
    "## MRE\n",
    "Always provide a complete [mre] with code, **data, errors, current output, and expected output**, as **[formatted text](https://stackoverflow.com/help/formatting)**. If relevant, only plot images are okay. Please see [How to ask a good question](https://stackoverflow.com/help/how-to-ask).\n",
    "\n",
    "**[No Screenshots](https://meta.stackoverflow.com/questions/303812/)** of code or data. Always provide a [mre] with code, **data, errors, current output, and expected output**, as **[formatted text](https://stackoverflow.com/help/formatting)**. If relevant, plot images are okay. Please see [How to ask a good question](https://stackoverflow.com/help/how-to-ask).\n",
    "\n",
    "Provide data with [How to provide a reproducible copy of your DataFrame using `df.head(15).to_clipboard(sep=',')`](https://stackoverflow.com/questions/52413246), then **[edit] your question**, and paste the clipboard into a code block."
   ]
  },
  {
   "cell_type": "markdown",
   "metadata": {},
   "source": [
    "## Not a coding service\n",
    "SO is not a coding service. Please read the following documentation, then [edit], and rephrase the question. [Take the Tour](https://stackoverflow.com/tour), [How to ask a good question](https://stackoverflow.com/help/how-to-ask), & [On Topic](https://stackoverflow.com/help/on-topic). Always provide a [mre] with **code, data, errors, current & expected output, as [formatted text](https://stackoverflow.com/help/formatting)** & you're expected to [try to solve the problem first](https://meta.stackoverflow.com/questions/261592)."
   ]
  },
  {
   "cell_type": "markdown",
   "metadata": {},
   "source": [
    "## clipboard\n",
    "Please see [How to provide a reproducible copy of your DataFrame using `df.head(30).to_clipboard(sep=',')`](https://stackoverflow.com/questions/52413246), then **[edit] your question**, and paste the clipboard into a code block. Always provide a [mre] **with code, data, errors, current output, and expected output, as [formatted text](https://stackoverflow.com/help/formatting)**. If relevant, plot images are okay."
   ]
  },
  {
   "cell_type": "markdown",
   "metadata": {},
   "source": [
    "## No screenshots\n",
    "Always provide a [mre], with **code, data, errors, current output, and expected output, as [formatted text](https://stackoverflow.com/help/formatting), [Not Screenshots](https://meta.stackoverflow.com/questions/303812/)**. It is likely the question will be down-voted and closed. You are discouraging assistance because no one wants to retype your data or code, and screenshots are often illegible. [edit] the question and **add text**. Please see [How to provide a reproducible copy of your DataFrame using `df.head(15).to_clipboard(sep=',')`](https://stackoverflow.com/questions/52413246)."
   ]
  },
  {
   "cell_type": "markdown",
   "metadata": {},
   "source": [
    "## No markdown tables\n",
    "Please don't use markdown tables for sample data. The data has to be manually extracted. Please see [How to provide a reproducible copy of your DataFrame using `df.head(30).to_clipboard(sep=',')`](https://stackoverflow.com/questions/52413246)."
   ]
  },
  {
   "cell_type": "markdown",
   "metadata": {},
   "source": [
    "## Can someone help me\n",
    "[Why is “Can someone help me?” not an actual question?](https://meta.stackoverflow.com/questions/284236/why-is-can-someone-help-me-not-an-actual-question)"
   ]
  },
  {
   "cell_type": "markdown",
   "metadata": {},
   "source": [
    "## Off-Topic Questions\n",
    "[What topics can I ask about here?](https://stackoverflow.com/help/on-topic) & [Don't advise on off-topic questions.](https://meta.stackoverflow.com/questions/276572/)"
   ]
  },
  {
   "cell_type": "markdown",
   "metadata": {},
   "source": [
    "## What topics\n",
    "[What topics can I ask about here?](https://stackoverflow.com/help/on-topic)"
   ]
  },
  {
   "cell_type": "markdown",
   "metadata": {},
   "source": [
    "## For shitty questions in review:\n",
    "Please read the following documentation, then edit and rephrase the question. [Take the Tour](https://stackoverflow.com/tour) & [How to ask a good question](https://stackoverflow.com/help/how-to-ask) & [What topics can I ask about here?](https://stackoverflow.com/help/on-topic) & [Minimal, Reproducible Example](https://stackoverflow.com/help/minimal-reproducible-example) & [How much research effort is expected of Stack Overflow users?](https://meta.stackoverflow.com/questions/261592/how-much-research-effort-is-expected-of-stack-overflow-users). From [review](https://stackoverflow.com/review)."
   ]
  },
  {
   "cell_type": "markdown",
   "metadata": {},
   "source": [
    "## expected effort\n",
    "[How much research effort is expected of Stack Overflow users?](https://meta.stackoverflow.com/questions/261592/how-much-research-effort-is-expected-of-stack-overflow-users)"
   ]
  },
  {
   "cell_type": "markdown",
   "metadata": {},
   "source": [
    "## Homework\n",
    "StackOverflow is not a coding service. [How do I ask and answer homework questions?](https://meta.stackoverflow.com/questions/334822/how-do-i-ask-and-answer-homework-questions)"
   ]
  },
  {
   "cell_type": "markdown",
   "metadata": {},
   "source": [
    "## Links to code:\n",
    "[Something in my web site or project doesn't work. Can I just paste a link to it?](https://meta.stackoverflow.com/questions/254428/something-in-my-web-site-or-project-doesnt-work-can-i-just-paste-a-link-to-it)"
   ]
  },
  {
   "cell_type": "markdown",
   "metadata": {},
   "source": [
    "## Installation\n",
    "[Can I ask questions about installation in SO?](https://meta.stackoverflow.com/questions/338203/can-i-ask-questions-about-installation-in-so) Questions about software tools commonly used by programmers must be **a practical, answerable problem unique to software development.**"
   ]
  },
  {
   "cell_type": "markdown",
   "metadata": {},
   "source": [
    "# Answers"
   ]
  },
  {
   "cell_type": "markdown",
   "metadata": {},
   "source": [
    "## Low Quality\n",
    "The provided answer was flagged for review as a Low Quality Post. Here are some guidelines for [How do I write a good answer?](https://stackoverflow.com/help/how-to-answer). This provided answer could benefit from an explanation. Code only answers are not considered \"good\" answers. From Review."
   ]
  },
  {
   "cell_type": "markdown",
   "metadata": {},
   "source": [
    "## Link-Only\n",
    "Link-only answers will be flagged for deletion because answers should be self-contained, and links rot. When you have a high enough reputation, from making quality contributions, you will be able to leave comments."
   ]
  },
  {
   "cell_type": "markdown",
   "metadata": {},
   "source": [
    "## Duplicate Answers\n",
    "I'm voting to delete this, as per [Flag Duplicate Answers on the same Question](https://meta.stackoverflow.com/questions/266469). While this is an answer, it duplicates code in a [previous answer](link). There is no additional value for SO to keep two answers with the same solution. [From Review](link)"
   ]
  },
  {
   "cell_type": "markdown",
   "metadata": {},
   "source": [
    "## In which Stack Exchange site, do I ask my question?\n",
    "[In which Stack Exchange site, do I ask my question?](https://meta.stackexchange.com/questions/129598/which-computer-science-programming-stack-exchange-sites-do-i-post-on)"
   ]
  },
  {
   "cell_type": "markdown",
   "metadata": {},
   "source": [
    "## Code only:\n",
    "[What to do with code-only answers in Low Quality Posts queue?](https://meta.stackoverflow.com/questions/300694/what-to-do-with-code-only-answers-in-low-quality-posts-queue)"
   ]
  },
  {
   "cell_type": "markdown",
   "metadata": {},
   "source": [
    "# Resource Links"
   ]
  },
  {
   "cell_type": "markdown",
   "metadata": {},
   "source": [
    "## Real Python\n",
    "- [Fast, Flexible, Easy and Intuitive: How to Speed Up Your Pandas Projects](https://realpython.com/fast-flexible-pandas/) use `isin`, `cut` or `np.digitize`\n",
    "- `\"\"\"description of the function\"\"\"`: use docstrings [Documenting Python Code: A Complete Guide](https://realpython.com/documenting-python-code/)\n",
    "- [Type annotations](https://realpython.com/python-type-checking/#annotations)"
   ]
  },
  {
   "cell_type": "markdown",
   "metadata": {},
   "source": [
    "## Flatten JSON\n",
    "[How to flatten nested JSON recursively, with flatten_json?](https://stackoverflow.com/questions/58442723/how-to-flatten-nested-json-recursively-with-flatten-json)"
   ]
  },
  {
   "cell_type": "markdown",
   "metadata": {},
   "source": [
    "## code\n",
    " - [PEP 484 - Type Hints](https://www.python.org/dev/peps/pep-0484/)\n",
    " - [`with`: Reading and Writing Files](https://docs.python.org/3/tutorial/inputoutput.html#reading-and-writing-files)\n",
    " - [Scope of Variables in Python](https://www.datacamp.com/community/tutorials/scope-of-variables-python)\n",
    " - [List Comprehensions](https://docs.python.org/3/tutorial/datastructures.html#list-comprehensions)\n",
    " - [The `return` statement](https://docs.python.org/3/reference/simple_stmts.html?highlight=return#the-return-statement)\n",
    " - [membership operator, `in`](https://docs.python.org/3/reference/expressions.html#membership-test-operations)"
   ]
  },
  {
   "cell_type": "markdown",
   "metadata": {},
   "source": [
    "### f-strings\n",
    "- [f-Strings: A New and Improved Way to Format Strings in Python](https://realpython.com/python-f-strings/#f-strings-a-new-and-improved-way-to-format-strings-in-python)\n",
    "- [PEP 498 - Literal String Interpolation](https://www.python.org/dev/peps/pep-0498/)"
   ]
  },
  {
   "cell_type": "markdown",
   "metadata": {},
   "source": [
    "### pathlib\n",
    " - [pathlib](https://docs.python.org/3/library/pathlib.html), part of the standard library and should replace `os`.\n",
    " - [Python 3's pathlib Module: Taming the File System](https://realpython.com/python-pathlib/)"
   ]
  },
  {
   "cell_type": "markdown",
   "metadata": {},
   "source": [
    "# Meta"
   ]
  },
  {
   "cell_type": "markdown",
   "metadata": {},
   "source": [
    "## Students\n",
    "\n",
    "- [Open letter to students with homework problems](https://softwareengineering.meta.stackexchange.com/questions/6166)\n",
    "- [How do I ask and answer homework questions?](https://meta.stackoverflow.com/questions/334822)  "
   ]
  },
  {
   "cell_type": "markdown",
   "metadata": {},
   "source": [
    "## Code of Conduct:\n",
    "[Code of Conduct](https://stackoverflow.com/conduct)"
   ]
  },
  {
   "cell_type": "markdown",
   "metadata": {},
   "source": [
    "## Very Low Quality\n",
    "[Very Low Quality](https://meta.stackoverflow.com/questions/265573/am-i-misusing-the-very-low-quality-flag/265764#265764)"
   ]
  },
  {
   "cell_type": "markdown",
   "metadata": {},
   "source": [
    "## Why downvotes\n",
    "Downvotes have nothing to do with the ease or difficulty of the question, they have to do with perceived effort, of trying to resolve the issue, prior to asking the question, the clarity with which the question is asked, and usefulness of the question to the Stack Overflow community. Additionally, there is such a thing as the question being to broad, and off-topic. Optimization questions, for existing functional code, is off-topic and should be asked in code review. Also, I'm not the one who downvoted your question.\n",
    "\n",
    "[Downvoted because no attempt was made](http://idownvotedbecau.se/noattempt/)"
   ]
  },
  {
   "cell_type": "markdown",
   "metadata": {},
   "source": [
    "## Revenge Downvotes\n",
    "[What can I do about getting a sudden flood of revenge downvotes?](https://meta.stackexchange.com/questions/212332/what-should-you-do-if-youre-serial-downvoted-it-isnt-automatically-reversed/212339#212339)"
   ]
  },
  {
   "cell_type": "markdown",
   "metadata": {},
   "source": [
    "## Spam Affiliation\n",
    "\n",
    "## Spam\n",
    "[What signifies “Good” self promotion? (or: Self Promotion Part Infinity)](https://meta.stackexchange.com/questions/182212/what-signifies-good-self-promotion-or-self-promotion-part-infinity)\n",
    "[How to not be a spammer](https://stackoverflow.com/help/promotion)\n",
    "[What makes something spam and when should I flag it?](https://meta.stackexchange.com/questions/58032/what-are-the-spam-and-rude-or-abusive-offensive-flags-and-how-do-they-wor/58035#58035)\n",
    "\n",
    "The community here tends to vote down overt self-promotion and flag it as spam. Post good, relevant answers **(this answer is not relevant to the question)**, and if some (but not all) happen to be about your product or website, that’s okay. However, **you must disclose your affiliation in your answers.** [How to not be a spammer](https://stackoverflow.com/help/promotion)\n",
    "\n",
    "https://stackoverflow.com/questions/63238666\n",
    "\n",
    "This answer has been flagged as spam, because the answer is not relevant to the question, and the OP is affiliated with the `yahooquery` package. Several answers by this OP have already been removed by [Makyen](https://stackoverflow.com/users/3773011/makyen)"
   ]
  }
 ],
 "metadata": {
  "kernelspec": {
   "display_name": "Python 3",
   "language": "python",
   "name": "python3"
  },
  "language_info": {
   "codemirror_mode": {
    "name": "ipython",
    "version": 3
   },
   "file_extension": ".py",
   "mimetype": "text/x-python",
   "name": "python",
   "nbconvert_exporter": "python",
   "pygments_lexer": "ipython3",
   "version": "3.8.5"
  }
 },
 "nbformat": 4,
 "nbformat_minor": 4
}
