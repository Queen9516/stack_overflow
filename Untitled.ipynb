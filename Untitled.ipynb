{
 "cells": [
  {
   "cell_type": "code",
   "execution_count": null,
   "metadata": {},
   "outputs": [],
   "source": [
    "import pandas as pd\n",
    "import matplotlib.pyplot as plt\n",
    "from matplotlib.patches import Rectangle\n",
    "import numpy as np\n",
    "from pprint import pprint as pp\n",
    "import csv\n",
    "from pathlib import Path\n",
    "import itertools\n",
    "from itertools import product, combinations, permutations\n",
    "import random\n",
    "from datetime import datetime, timedelta, date\n",
    "from collections import OrderedDict, defaultdict, Counter, namedtuple\n",
    "from pandas.io.json import json_normalize\n",
    "import seaborn as sns\n",
    "import matplotlib.dates as mdates\n",
    "import re\n",
    "import requests\n",
    "from bs4 import BeautifulSoup\n",
    "import statsmodels.api as sm\n",
    "import calendar\n",
    "import scipy\n",
    "import json\n",
    "from PIL import Image\n",
    "from bs4 import BeautifulSoup as bs\n",
    "from ast import literal_eval  # use to eval a string as a list df['column'] = df['column'].apply(literal_eval)\n",
    "from stockstats import StockDataFrame as sdf  # dataframe wrapper for stack calculations\n",
    "import math\n",
    "import time\n",
    "import sys\n",
    "import string\n",
    "import json\n",
    "import sklearn\n",
    "import urllib\n",
    "import urllib3\n",
    "import psutil"
   ]
  },
  {
   "cell_type": "code",
   "execution_count": null,
   "metadata": {},
   "outputs": [],
   "source": [
    "pd.set_option('display.max_columns', 700)\n",
    "pd.set_option('display.max_rows', 100)\n",
    "pd.set_option('display.min_rows', 10)\n",
    "pd.set_option('display.expand_frame_repr', True)"
   ]
  },
  {
   "cell_type": "markdown",
   "metadata": {},
   "source": [
    "## Synthetic Data:"
   ]
  },
  {
   "cell_type": "markdown",
   "metadata": {},
   "source": [
    "### Use recursion to flatten the nested `dicts`\n",
    "\n",
    " - [Thinking Recursively in Python](https://realpython.com/python-thinking-recursively/)\n",
    " - [Flattening JSON objects in Python](https://towardsdatascience.com/flattening-json-objects-in-python-f5343c794b10)\n",
    " - [flatten](https://github.com/amirziai/flatten)\n",
    " - The `flatten_json` function, will be used to flatten `data`"
   ]
  },
  {
   "cell_type": "code",
   "execution_count": null,
   "metadata": {},
   "outputs": [],
   "source": [
    "def flatten_json(nested_json: dict, exclude: list=[''], sep='_') -> dict:\n",
    "    \"\"\"\n",
    "    Flatten a list of nested dicts.\n",
    "    \"\"\"\n",
    "    out = dict()\n",
    "    def flatten(x: (list, dict, str), name: str='', exclude=exclude):\n",
    "        if type(x) is dict:\n",
    "            for a in x:\n",
    "                if a not in exclude:\n",
    "                    flatten(x[a], f'{name}{a}{sep}')\n",
    "        elif type(x) is list:\n",
    "            i = 0\n",
    "            for a in x:\n",
    "                flatten(a, f'{name}{i}{sep}')\n",
    "                i += 1\n",
    "        else:\n",
    "            out[name[:-1]] = x\n",
    "\n",
    "    flatten(nested_json)\n",
    "    return out\n",
    "\n",
    "# df = pd.DataFrame([flatten_json(x) for x in data])\n",
    "# df = pd.DataFrame([flatten_json(x) for x in data[key]])"
   ]
  },
  {
   "cell_type": "code",
   "execution_count": null,
   "metadata": {},
   "outputs": [],
   "source": [
    "np.random.seed(365)"
   ]
  },
  {
   "cell_type": "code",
   "execution_count": null,
   "metadata": {},
   "outputs": [],
   "source": [
    "date_0 = pd.date_range(pd.datetime.today(), periods=10).to_pydatetime().tolist()\n",
    "date_0[:2]"
   ]
  },
  {
   "cell_type": "code",
   "execution_count": null,
   "metadata": {},
   "outputs": [],
   "source": [
    "date_1 = pd.date_range(end=pd.datetime.today(), periods=10).to_pydatetime().tolist()\n",
    "date_1[:2]"
   ]
  },
  {
   "cell_type": "code",
   "execution_count": null,
   "metadata": {},
   "outputs": [],
   "source": [
    "date = pd.bdate_range(end=pd.datetime.today(), periods=10).to_pydatetime().tolist()\n",
    "date[:2]"
   ]
  },
  {
   "cell_type": "code",
   "execution_count": null,
   "metadata": {},
   "outputs": [],
   "source": [
    "np.random.seed(365)\n",
    "data = {'a': [np.random.randint(10) for _ in range(15)],\n",
    "        'b': [np.random.randint(10) for _ in range(15)],\n",
    "        'c': [np.random.randint(10) for _ in range(15)],\n",
    "        'd': [np.random.randint(10) for _ in range(15)],\n",
    "        'e': [np.random.randint(10) for _ in range(15)],\n",
    "        'date': pd.bdate_range(pd.datetime.today(), periods=15).tolist()}"
   ]
  },
  {
   "cell_type": "code",
   "execution_count": null,
   "metadata": {},
   "outputs": [],
   "source": [
    "random.seed(365)\n",
    "data = {'groups': [random.choice(['1-5', '6-25', '26-100', '100-500', '500-1000', '>1000']) for _ in range(1000)],\n",
    "        'treatment': [random.choice(['Yes', 'No']) for _ in range(1000)]}"
   ]
  },
  {
   "cell_type": "code",
   "execution_count": null,
   "metadata": {},
   "outputs": [],
   "source": [
    "# stock data\n",
    "periods = '3600'\n",
    "resp = requests.get('https://api.cryptowat.ch/markets/poloniex/ethusdt/ohlc', params={'periods': periods})\n",
    "data = resp.json()\n",
    "df = pd.DataFrame(data['result'][periods], columns=['date', 'open', 'high', 'low', 'close', 'volume', 'amount'])\n",
    "df['date'] = pd.to_datetime(df['date'], unit='s')\n",
    "\n",
    "stock = sdf.retype(df)\n",
    "stock['macds']\n",
    "# stock"
   ]
  },
  {
   "cell_type": "code",
   "execution_count": null,
   "metadata": {},
   "outputs": [],
   "source": [
    "# p = Path('test.json')  # if in current dir\n",
    "p = Path.cwd() / 'test.json'\n",
    "# p = Path.cwd() / 'data/nvdcve-1.1-2019.json/nvdcve-1.1-2019.json'"
   ]
  },
  {
   "cell_type": "code",
   "execution_count": null,
   "metadata": {},
   "outputs": [],
   "source": [
    "with p.open('r', encoding='utf-8') as f:\n",
    "    data = json.loads(f.read())"
   ]
  },
  {
   "cell_type": "code",
   "execution_count": null,
   "metadata": {},
   "outputs": [],
   "source": [
    "# Use with a list of dicts\n",
    "with p.open(\"r\") as f:\n",
    "    data = literal_eval(f.read())"
   ]
  },
  {
   "cell_type": "code",
   "execution_count": null,
   "metadata": {},
   "outputs": [],
   "source": [
    "df = json_normalize(data)"
   ]
  },
  {
   "cell_type": "code",
   "execution_count": null,
   "metadata": {},
   "outputs": [],
   "source": [
    "df = pd.read_clipboard(sep='\\\\s+')"
   ]
  },
  {
   "cell_type": "code",
   "execution_count": null,
   "metadata": {},
   "outputs": [],
   "source": [
    "df.to_clipboard(sep='\\\\s+', index=False)"
   ]
  },
  {
   "cell_type": "code",
   "execution_count": null,
   "metadata": {},
   "outputs": [],
   "source": [
    "df = pd.read_csv('test.csv')\n",
    "# df = pd.read_csv('test.txt', sep='|', header=None, converters={2: eval})  # converters={'file_path_lists': eval}"
   ]
  },
  {
   "cell_type": "code",
   "execution_count": null,
   "metadata": {},
   "outputs": [],
   "source": [
    "df = pd.read_excel('test.xlsx')"
   ]
  },
  {
   "cell_type": "code",
   "execution_count": null,
   "metadata": {},
   "outputs": [],
   "source": [
    "df = pd.DataFrame(data)"
   ]
  },
  {
   "cell_type": "code",
   "execution_count": null,
   "metadata": {},
   "outputs": [],
   "source": [
    "# These are the usual ipython objects, including this one you are creating\n",
    "ipython_vars = ['In', 'Out', 'exit', 'quit', 'get_ipython', 'ipython_vars']  # list a variables\n",
    "\n",
    "# Get a sorted list of the objects and their sizes\n",
    "sorted([(x, sys.getsizeof(globals().get(x))) for x in dir() if not x.startswith('_') and x not in sys.modules and x not in ipython_vars], key=lambda x: x[1], reverse=True)"
   ]
  },
  {
   "cell_type": "markdown",
   "metadata": {},
   "source": [
    "## End Synthetic Data:"
   ]
  },
  {
   "cell_type": "code",
   "execution_count": null,
   "metadata": {},
   "outputs": [],
   "source": []
  }
 ],
 "metadata": {
  "kernelspec": {
   "display_name": "Python 3",
   "language": "python",
   "name": "python3"
  },
  "language_info": {
   "codemirror_mode": {
    "name": "ipython",
    "version": 3
   },
   "file_extension": ".py",
   "mimetype": "text/x-python",
   "name": "python",
   "nbconvert_exporter": "python",
   "pygments_lexer": "ipython3",
   "version": "3.7.5"
  }
 },
 "nbformat": 4,
 "nbformat_minor": 4
}
