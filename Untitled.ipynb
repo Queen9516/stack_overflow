{
 "cells": [
  {
   "cell_type": "code",
   "execution_count": null,
   "metadata": {},
   "outputs": [],
   "source": [
    "import pandas as pd\n",
    "import matplotlib.pyplot as plt\n",
    "from matplotlib.patches import Rectangle\n",
    "import numpy as np\n",
    "from pprint import pprint as pp\n",
    "import csv\n",
    "from pathlib import Path\n",
    "import itertools\n",
    "from itertools import product\n",
    "import random\n",
    "from datetime import datetime, timedelta\n",
    "from collections import OrderedDict\n",
    "from pandas.io.json import json_normalize\n",
    "import seaborn as sns\n",
    "import matplotlib.dates as mdates\n",
    "import re\n",
    "import requests\n",
    "from bs4 import BeautifulSoup\n",
    "import statsmodels.api as sm\n",
    "import calendar\n",
    "import scipy\n",
    "import json\n",
    "from PIL import Image\n",
    "from bs4 import BeautifulSoup as bs"
   ]
  },
  {
   "cell_type": "code",
   "execution_count": null,
   "metadata": {},
   "outputs": [],
   "source": [
    "pd.set_option('max_columns', 200)\n",
    "pd.set_option('max_rows', 300)\n",
    "pd.set_option('display.expand_frame_repr', True)"
   ]
  },
  {
   "cell_type": "markdown",
   "metadata": {},
   "source": [
    "## Synthetic Data:"
   ]
  },
  {
   "cell_type": "code",
   "execution_count": null,
   "metadata": {},
   "outputs": [],
   "source": [
    "date_0 = pd.date_range(pd.datetime.today(), periods=10).to_pydatetime().tolist()\n",
    "date_0[:2]"
   ]
  },
  {
   "cell_type": "code",
   "execution_count": null,
   "metadata": {},
   "outputs": [],
   "source": [
    "date_1 = pd.date_range(end=pd.datetime.today(), periods=10).to_pydatetime().tolist()\n",
    "date_1[:2]"
   ]
  },
  {
   "cell_type": "code",
   "execution_count": null,
   "metadata": {},
   "outputs": [],
   "source": [
    "date = pd.bdate_range(end=pd.datetime.today(), periods=10).to_pydatetime().tolist()\n",
    "date[:2]"
   ]
  },
  {
   "cell_type": "code",
   "execution_count": null,
   "metadata": {},
   "outputs": [],
   "source": [
    "data = {'a': [np.random.randint(10) for _ in range(10)],\n",
    "        'b': [np.random.randint(10) for _ in range(10)],\n",
    "        'c': [np.random.randint(10) for _ in range(10)],\n",
    "        'd': [np.random.randint(10) for _ in range(10)],\n",
    "        'e': [np.random.randint(10) for _ in range(10)],\n",
    "        'date': pd.bdate_range(pd.datetime.today(), periods=10).tolist()}"
   ]
  },
  {
   "cell_type": "code",
   "execution_count": null,
   "metadata": {},
   "outputs": [],
   "source": [
    "data = {'no_employees': [random.choice(['1-5', '6-25', '26-100', '100-500', '500-1000', '>1000']) for _ in range(1000)],\n",
    "        'treatment': [random.choice(['Yes', 'No']) for _ in range(1000)]}"
   ]
  },
  {
   "cell_type": "markdown",
   "metadata": {},
   "source": [
    "## End Synthetic Data:"
   ]
  },
  {
   "cell_type": "code",
   "execution_count": null,
   "metadata": {},
   "outputs": [],
   "source": [
    "d1 = {\n",
    "    \"chisel\": [\n",
    "        {\"type\": \"chisel\"},\n",
    "        {\"depth\": [152, 178, 203]},\n",
    "        {\"residue incorporation\": [0.4, 0.5, 0.6, 0.7, 0.8, 0.9, 1.0]},\n",
    "        {\"timing\": [\"10-nov\", \"10-apr\"]},\n",
    "    ],\n",
    "    \"disc\": [\n",
    "        {\"type\": \"disc\"},\n",
    "        {\"depth\": [127, 152, 178, 203]},\n",
    "        {\"residue incorporation\": [0.4, 0.5, 0.6, 0.7, 0.8, 0.9, 1.0]},\n",
    "        {\"timing\": [\"10-nov\", \"10-apr\"]},\n",
    "    ],\n",
    "    \"no_till\": [\n",
    "        {\"type\": \"user_defined\"},\n",
    "        {\"depth\": [0]},\n",
    "        {\"residue incorporation\": [0.0]},\n",
    "        {\"timing\": [\"10-apr\"]},\n",
    "    ],\n",
    "}"
   ]
  },
  {
   "cell_type": "code",
   "execution_count": null,
   "metadata": {},
   "outputs": [],
   "source": [
    "d2 = {\n",
    "    \"nh4_n\":\n",
    "        {\n",
    "            \"kg/ha\":[110, 115, 120, 125, 130, 135, 140, 145, 150, 155, 160, 165, 170, 175, 180, 185, 190, 195, 200, 205, 210, 215, 220, 225],\n",
    "            \"fertilize_on\":\"10-apr\"\n",
    "        },\n",
    "    \"urea_n\":\n",
    "        {\n",
    "            \"kg/ha\":[110, 115, 120, 125, 130, 135, 140, 145, 150, 155, 160, 165, 170, 175, 180, 185, 190, 195, 200, 205, 210, 215, 220, 225],\n",
    "            \"fertilize_on\":\"10-apr\"\n",
    "        }\n",
    "}"
   ]
  },
  {
   "cell_type": "code",
   "execution_count": null,
   "metadata": {},
   "outputs": [],
   "source": [
    "d3 = {\n",
    "    \"maize\": {\n",
    "        \"sow_crop\": 'maize',\n",
    "        \"cultivar\": ['B_105', 'B_110'],\n",
    "        \"planting_dates\": [\n",
    "            '20-apr', '27-apr', '4-may', '11-may', '18-may', '25-may', '1-jun', '8-jun', '15-jun'],\n",
    "        \"sowing_density\": [8],\n",
    "        \"sowing_depth\": [51],\n",
    "        \"harvest\": ['maize'],\n",
    "    }\n",
    "}"
   ]
  },
  {
   "cell_type": "code",
   "execution_count": null,
   "metadata": {},
   "outputs": [],
   "source": [
    "df_1 = pd.DataFrame({'type': 'chisel',\n",
    " 'depth': [152, 178, 203],\n",
    " 'residue incorporation': [0.4, 0.5, 0.6, 0.7, 0.8, 0.9, 1.0],\n",
    " 'timing': ['10-nov', '10-apr']})"
   ]
  },
  {
   "cell_type": "code",
   "execution_count": null,
   "metadata": {},
   "outputs": [],
   "source": [
    "d1['chisel']"
   ]
  },
  {
   "cell_type": "code",
   "execution_count": null,
   "metadata": {},
   "outputs": [],
   "source": [
    "test = [f'{k}: {v}' for x in d1['chisel'] for k, v in x.items()]"
   ]
  },
  {
   "cell_type": "code",
   "execution_count": null,
   "metadata": {},
   "outputs": [],
   "source": [
    "test"
   ]
  },
  {
   "cell_type": "code",
   "execution_count": null,
   "metadata": {},
   "outputs": [],
   "source": [
    "df_1"
   ]
  },
  {
   "cell_type": "code",
   "execution_count": null,
   "metadata": {},
   "outputs": [],
   "source": []
  },
  {
   "cell_type": "code",
   "execution_count": null,
   "metadata": {},
   "outputs": [],
   "source": []
  }
 ],
 "metadata": {
  "kernelspec": {
   "display_name": "Python 3",
   "language": "python",
   "name": "python3"
  },
  "language_info": {
   "codemirror_mode": {
    "name": "ipython",
    "version": 3
   },
   "file_extension": ".py",
   "mimetype": "text/x-python",
   "name": "python",
   "nbconvert_exporter": "python",
   "pygments_lexer": "ipython3",
   "version": "3.7.4"
  }
 },
 "nbformat": 4,
 "nbformat_minor": 4
}
