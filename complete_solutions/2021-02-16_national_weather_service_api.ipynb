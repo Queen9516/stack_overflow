{
 "cells": [
  {
   "cell_type": "code",
   "execution_count": null,
   "id": "dominant-caution",
   "metadata": {},
   "outputs": [],
   "source": [
    "from geopy.geocoders import Nominatim\n",
    "import pandas as pd\n",
    "import requests\n",
    "import matplotlib.pyplot as plt\n",
    "import seaborn as sns"
   ]
  },
  {
   "cell_type": "code",
   "execution_count": null,
   "id": "virgin-portuguese",
   "metadata": {},
   "outputs": [],
   "source": [
    "# import file with username\n",
    "private = pd.read_csv('e:/PythonProjects/api.csv')\n",
    "val = private.un[private.api == 'geopy'][0]"
   ]
  },
  {
   "cell_type": "code",
   "execution_count": null,
   "id": "orange-arthur",
   "metadata": {},
   "outputs": [],
   "source": [
    "# you will need a free geopy account\n",
    "geolocator = Nominatim(user_agent=val)"
   ]
  },
  {
   "cell_type": "code",
   "execution_count": null,
   "id": "taken-manhattan",
   "metadata": {},
   "outputs": [],
   "source": [
    "def gets_temperature_forecast(city_state: str):\n",
    "\n",
    "    location = geolocator.geocode(city_state)\n",
    "    lat = location.latitude\n",
    "    lon = location.longitude\n",
    "    \n",
    "    print(lat, lon)\n",
    "    \n",
    "    # https://www.weather.gov/documentation/services-web-api\n",
    "    res = requests.get(f'https://api.weather.gov/points/{lat},{lon}')\n",
    "    status = res.status_code\n",
    "    \n",
    "    if status == 200:\n",
    "        points = res.json()\n",
    "\n",
    "        gridId = points['properties']['gridId']\n",
    "        gridX = points['properties']['gridX']\n",
    "        gridY = points['properties']['gridY']\n",
    "\n",
    "        temp_api = requests.get(f'https://api.weather.gov/gridpoints/{gridId}/{gridX},{gridY}').json()\n",
    "\n",
    "        data = temp_api['properties']['temperature']['values']\n",
    "\n",
    "        df = pd.DataFrame(data)\n",
    "        df.validTime = df.validTime.str.split('/', expand=True)[0]\n",
    "        df.validTime = pd.to_datetime(df.validTime)\n",
    "        df.rename(columns={'value': '°C'}, inplace=True)\n",
    "        df['°C'] = df['°C'].round(2)\n",
    "        df['°F'] = (df['°C'] * 9/5 + 32).round(1)\n",
    "        df['date'] = df.validTime.dt.date\n",
    "        df['time'] = df.validTime.dt.time\n",
    "        \n",
    "        print('Finished')\n",
    "\n",
    "    #     for _, (_, deg_c, deg_f, date, time) in df.iterrows():\n",
    "    #         print(f'Date: {date} Time: {time} Temperature: {deg_c:0.2f} °C ({deg_f:0.1f} °F)')\n",
    "    else:\n",
    "        print(f'Invalid Staus Code: {status}')\n",
    "        df = None\n",
    "        \n",
    "    return df"
   ]
  },
  {
   "cell_type": "code",
   "execution_count": null,
   "id": "breeding-convertible",
   "metadata": {},
   "outputs": [],
   "source": [
    "# city_state = 'Portland, OR'\n",
    "city_state = input('Input a city and state in the form (City, ST): ')\n",
    "d = gets_temperature_forecast(city_state)"
   ]
  },
  {
   "cell_type": "code",
   "execution_count": null,
   "id": "sorted-plastic",
   "metadata": {},
   "outputs": [],
   "source": [
    "fig, ax = plt.subplots(figsize=(12, 6))\n",
    "p1 = sns.scatterplot(data=d, x='validTime', y='°C', ax=ax)\n",
    "p1.set_xlabel('Date')\n",
    "p1.set_title(f'Temperature: {city_state}')\n",
    "p1.grid()"
   ]
  },
  {
   "cell_type": "code",
   "execution_count": null,
   "id": "disturbed-responsibility",
   "metadata": {},
   "outputs": [],
   "source": []
  }
 ],
 "metadata": {
  "kernelspec": {
   "display_name": "Python 3",
   "language": "python",
   "name": "python3"
  },
  "language_info": {
   "codemirror_mode": {
    "name": "ipython",
    "version": 3
   },
   "file_extension": ".py",
   "mimetype": "text/x-python",
   "name": "python",
   "nbconvert_exporter": "python",
   "pygments_lexer": "ipython3",
   "version": "3.8.5"
  }
 },
 "nbformat": 4,
 "nbformat_minor": 5
}
