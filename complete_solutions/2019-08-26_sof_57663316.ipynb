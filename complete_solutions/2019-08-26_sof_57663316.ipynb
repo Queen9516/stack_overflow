{
 "cells": [
  {
   "cell_type": "markdown",
   "metadata": {},
   "source": [
    "## Every product/combination of nested dictionaries saved to DataFrame\n",
    "\n",
    "* [stack overflow link](https://stackoverflow.com/questions/57663316/every-product-combination-of-nested-dictionaries-saved-to-dataframe/57668373#57668373)"
   ]
  },
  {
   "cell_type": "code",
   "execution_count": null,
   "metadata": {},
   "outputs": [],
   "source": [
    "import pandas as pd\n",
    "from pprint import pprint as pp"
   ]
  },
  {
   "cell_type": "code",
   "execution_count": null,
   "metadata": {},
   "outputs": [],
   "source": [
    "d1 = {\n",
    "    \"chisel\": [\n",
    "        {\"type\": \"chisel\"},\n",
    "        {\"depth\": [152, 178, 203]},\n",
    "        {\"residue incorporation\": [0.4, 0.5, 0.6, 0.7, 0.8, 0.9, 1.0]},\n",
    "        {\"timing\": [\"10-nov\", \"10-apr\"]},\n",
    "    ],\n",
    "    \"disc\": [\n",
    "        {\"type\": \"disc\"},\n",
    "        {\"depth\": [127, 152, 178, 203]},\n",
    "        {\"residue incorporation\": [0.4, 0.5, 0.6, 0.7, 0.8, 0.9, 1.0]},\n",
    "        {\"timing\": [\"10-nov\", \"10-apr\"]},\n",
    "    ],\n",
    "    \"no_till\": [\n",
    "        {\"type\": \"user_defined\"},\n",
    "        {\"depth\": [0]},\n",
    "        {\"residue incorporation\": [0.0]},\n",
    "        {\"timing\": [\"10-apr\"]},\n",
    "    ],\n",
    "}"
   ]
  },
  {
   "cell_type": "code",
   "execution_count": null,
   "metadata": {},
   "outputs": [],
   "source": [
    "def fix_list_dicts(data: dict) -> dict:\n",
    "    \"\"\"\n",
    "    Given a dict where the values are a list of dicts:\n",
    "    (1) convert the value to a dict of dicts\n",
    "    (2) if any second level value is a str, convert it to a list\n",
    "    \"\"\"\n",
    "    data_new = dict()\n",
    "    for k, v in data.items():\n",
    "        v_new = dict()\n",
    "        for x in v:\n",
    "            for k1, v1 in x.items():\n",
    "                if type(v1) != list:\n",
    "                    x[k1] = [v1]\n",
    "            v_new.update(x)\n",
    "        data_new[k] = v_new\n",
    "    return data_new"
   ]
  },
  {
   "cell_type": "code",
   "execution_count": null,
   "metadata": {},
   "outputs": [],
   "source": [
    "d1 = fix_list_dicts(d1)"
   ]
  },
  {
   "cell_type": "code",
   "execution_count": null,
   "metadata": {},
   "outputs": [],
   "source": [
    "pp(d1)"
   ]
  },
  {
   "cell_type": "code",
   "execution_count": null,
   "metadata": {},
   "outputs": [],
   "source": [
    "d2 = {\n",
    "    \"nh4_n\":\n",
    "        {\n",
    "            \"kg/ha\":[110, 115, 120, 125, 130, 135, 140, 145, 150, 155, 160, 165, 170, 175, 180, 185, 190, 195, 200, 205, 210, 215, 220, 225],\n",
    "            \"fertilize_on\":\"10-apr\"\n",
    "        },\n",
    "    \"urea_n\":\n",
    "        {\n",
    "            \"kg/ha\":[110, 115, 120, 125, 130, 135, 140, 145, 150, 155, 160, 165, 170, 175, 180, 185, 190, 195, 200, 205, 210, 215, 220, 225],\n",
    "            \"fertilize_on\":\"10-apr\"\n",
    "        }\n",
    "}"
   ]
  },
  {
   "cell_type": "code",
   "execution_count": null,
   "metadata": {},
   "outputs": [],
   "source": [
    "def add_top_key_as_value(data: dict, new_key: str) -> dict:\n",
    "    \"\"\"\n",
    "    Given a dict of dicts, where top key is not a 2nd level value:\n",
    "    (1) add new key: value pair to second level\n",
    "    \"\"\"\n",
    "    for k, v in data.items():\n",
    "        v.update({new_key: k})\n",
    "        data[k] = v\n",
    "    return data"
   ]
  },
  {
   "cell_type": "code",
   "execution_count": null,
   "metadata": {},
   "outputs": [],
   "source": [
    "d2 = add_top_key_as_value(d2, 'fertilizer')\n",
    "d2 = str_value_to_list(d2)"
   ]
  },
  {
   "cell_type": "code",
   "execution_count": null,
   "metadata": {},
   "outputs": [],
   "source": [
    "pp(d2)"
   ]
  },
  {
   "cell_type": "code",
   "execution_count": null,
   "metadata": {},
   "outputs": [],
   "source": [
    "d3 = {\n",
    "    \"maize\": {\n",
    "        \"sow_crop\": 'maize',\n",
    "        \"cultivar\": ['B_105', 'B_110'],\n",
    "        \"planting_dates\": [\n",
    "            '20-apr', '27-apr', '4-may', '11-may', '18-may', '25-may', '1-jun', '8-jun', '15-jun'],\n",
    "        \"sowing_density\": [8],\n",
    "        \"sowing_depth\": [51],\n",
    "        \"harvest\": ['maize'],\n",
    "    }\n",
    "}"
   ]
  },
  {
   "cell_type": "code",
   "execution_count": null,
   "metadata": {},
   "outputs": [],
   "source": [
    "def str_value_to_list(data: dict) -> dict:\n",
    "    \"\"\"\n",
    "    Given a dict of dicts:\n",
    "    (1) Convert any second level value from str to list\n",
    "    \"\"\"    \n",
    "    for k, v in data.items():\n",
    "        for k2, v2 in v.items():\n",
    "            if type(v2) != list:\n",
    "                data[k][k2] = [v2]\n",
    "    return data    "
   ]
  },
  {
   "cell_type": "code",
   "execution_count": null,
   "metadata": {},
   "outputs": [],
   "source": [
    "d3 = str_value_to_list(d3)"
   ]
  },
  {
   "cell_type": "code",
   "execution_count": null,
   "metadata": {},
   "outputs": [],
   "source": [
    "pp(d3)"
   ]
  },
  {
   "cell_type": "code",
   "execution_count": null,
   "metadata": {},
   "outputs": [],
   "source": [
    "def combine_the_data(data: list) -> dict:\n",
    "    \"\"\"\n",
    "    Given a list of dicts:\n",
    "    (1) convert each dict into DataFrame\n",
    "    (2) set the indices to 0\n",
    "    (3) add each DataFrame to df_dict\n",
    "    \"\"\"\n",
    "    df_dict = dict()\n",
    "    for i, d in enumerate(data):\n",
    "        df = pd.DataFrame.from_dict(d, orient='index')\n",
    "        df.index = [0 for _ in range(len(df))]\n",
    "        df_dict[f'd_{i}'] = df\n",
    "        \n",
    "    return df_dict"
   ]
  },
  {
   "cell_type": "code",
   "execution_count": null,
   "metadata": {},
   "outputs": [],
   "source": [
    "data = [d1, d2, d3]\n",
    "df_dict = combine_the_data(data)"
   ]
  },
  {
   "cell_type": "code",
   "execution_count": null,
   "metadata": {},
   "outputs": [],
   "source": [
    "df_dict['d_0']"
   ]
  },
  {
   "cell_type": "code",
   "execution_count": null,
   "metadata": {},
   "outputs": [],
   "source": [
    "df_dict['d_1']"
   ]
  },
  {
   "cell_type": "code",
   "execution_count": null,
   "metadata": {},
   "outputs": [],
   "source": [
    "df_dict['d_2']"
   ]
  },
  {
   "cell_type": "code",
   "execution_count": null,
   "metadata": {},
   "outputs": [],
   "source": [
    "def merge_df_dict(data: dict) -> pd.DataFrame:\n",
    "    \"\"\"\n",
    "    Given a dict of DataFrames\n",
    "    (1) merge them on the index\n",
    "    \"\"\"\n",
    "    df = pd.DataFrame()\n",
    "    for _, v in data.items():\n",
    "        df = df.merge(v, how='outer', left_index=True, right_index=True)\n",
    "    return df"
   ]
  },
  {
   "cell_type": "code",
   "execution_count": null,
   "metadata": {},
   "outputs": [],
   "source": [
    "df = merge_df_dict(df_dict)"
   ]
  },
  {
   "cell_type": "code",
   "execution_count": null,
   "metadata": {},
   "outputs": [],
   "source": [
    "df"
   ]
  },
  {
   "cell_type": "code",
   "execution_count": null,
   "metadata": {},
   "outputs": [],
   "source": [
    "df.reset_index(drop=True, inplace=True)"
   ]
  },
  {
   "cell_type": "code",
   "execution_count": null,
   "metadata": {},
   "outputs": [],
   "source": [
    "for col in df.columns:\n",
    "    df = df.explode(col).reset_index(drop=True)"
   ]
  },
  {
   "cell_type": "code",
   "execution_count": null,
   "metadata": {},
   "outputs": [],
   "source": [
    "df"
   ]
  },
  {
   "cell_type": "code",
   "execution_count": null,
   "metadata": {},
   "outputs": [],
   "source": [
    "df.type.value_counts()"
   ]
  }
 ],
 "metadata": {
  "kernelspec": {
   "display_name": "Python 3",
   "language": "python",
   "name": "python3"
  },
  "language_info": {
   "codemirror_mode": {
    "name": "ipython",
    "version": 3
   },
   "file_extension": ".py",
   "mimetype": "text/x-python",
   "name": "python",
   "nbconvert_exporter": "python",
   "pygments_lexer": "ipython3",
   "version": "3.7.4"
  }
 },
 "nbformat": 4,
 "nbformat_minor": 4
}
