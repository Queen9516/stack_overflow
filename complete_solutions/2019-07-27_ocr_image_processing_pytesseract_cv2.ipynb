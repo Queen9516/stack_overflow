{
 "cells": [
  {
   "cell_type": "markdown",
   "metadata": {},
   "source": [
    "**For [stackoverflow](https://stackoverflow.com) issue [Why can't I get string with PIL and pytesseract?](https://stackoverflow.com/questions/57183997/why-cant-get-string-with-pil-and-pytesseract/57229158#57229158)**"
   ]
  },
  {
   "cell_type": "code",
   "execution_count": 1,
   "metadata": {},
   "outputs": [],
   "source": [
    "from PIL import Image\n",
    "import pytesseract\n",
    "import cv2\n",
    "import numpy as np\n",
    "from matplotlib import pyplot as plt\n",
    "from pathlib import Path"
   ]
  },
  {
   "cell_type": "code",
   "execution_count": 2,
   "metadata": {},
   "outputs": [],
   "source": [
    "pytesseract.pytesseract.tesseract_cmd = \"C:/Program Files (x86)/Tesseract-OCR/tesseract.exe\""
   ]
  },
  {
   "cell_type": "markdown",
   "metadata": {},
   "source": [
    "**Files:**"
   ]
  },
  {
   "cell_type": "code",
   "execution_count": 3,
   "metadata": {},
   "outputs": [],
   "source": [
    "data = Path.cwd() / 'data'"
   ]
  },
  {
   "cell_type": "code",
   "execution_count": 4,
   "metadata": {},
   "outputs": [],
   "source": [
    "img_original = Image.open(data / '0244R.jpg')\n",
    "img_new = Image.open(data / '0244R_clean.jpg')\n",
    "img = [img_original, img_new]"
   ]
  },
  {
   "cell_type": "markdown",
   "metadata": {},
   "source": [
    "# OCR Without Image Processing"
   ]
  },
  {
   "cell_type": "code",
   "execution_count": 5,
   "metadata": {},
   "outputs": [
    {
     "data": {
      "image/png": "[encoded data removed]",
      "text/plain": [
       "<PIL.JpegImagePlugin.JpegImageFile image mode=RGB size=63x22 at 0x1527DE0D7B8>"
      ]
     },
     "execution_count": 5,
     "metadata": {},
     "output_type": "execute_result"
    }
   ],
   "source": [
    "img_original"
   ]
  },
  {
   "cell_type": "code",
   "execution_count": 6,
   "metadata": {},
   "outputs": [
    {
     "data": {
      "image/png": "[encoded data removed]",
      "text/plain": [
       "<PIL.JpegImagePlugin.JpegImageFile image mode=RGB size=256x119 at 0x1527DE0D710>"
      ]
     },
     "execution_count": 6,
     "metadata": {},
     "output_type": "execute_result"
    }
   ],
   "source": [
    "img_new"
   ]
  },
  {
   "cell_type": "code",
   "execution_count": 7,
   "metadata": {},
   "outputs": [
    {
     "name": "stdout",
     "output_type": "stream",
     "text": [
      "OCR Result: \n",
      "\n",
      "OCR Result: 0244R\n",
      "\n"
     ]
    }
   ],
   "source": [
    "for x in img:\n",
    "    print(f'OCR Result: {pytesseract.image_to_string(x)}\\n')"
   ]
  },
  {
   "cell_type": "markdown",
   "metadata": {},
   "source": [
    "# Incorporate Image Processing"
   ]
  },
  {
   "cell_type": "markdown",
   "metadata": {},
   "source": [
    "[Improve Accuracy of OCR using Image Preprocessing](https://medium.com/cashify-engineering/improve-accuracy-of-ocr-using-image-preprocessing-8df29ec3a033)"
   ]
  },
  {
   "cell_type": "code",
   "execution_count": 8,
   "metadata": {},
   "outputs": [],
   "source": [
    "def image_smoothen(img):\n",
    "    ret1, th1 = cv2.threshold(img, 88, 255, cv2.THRESH_BINARY)\n",
    "    ret2, th2 = cv2.threshold(th1, 0, 255, cv2.THRESH_BINARY + cv2.THRESH_OTSU)\n",
    "    blur = cv2.GaussianBlur(th2, (5, 5), 0)\n",
    "    ret3, th3 = cv2.threshold(blur, 0, 255, cv2.THRESH_BINARY + cv2.THRESH_OTSU)\n",
    "    return th3"
   ]
  },
  {
   "cell_type": "code",
   "execution_count": 9,
   "metadata": {},
   "outputs": [],
   "source": [
    "def remove_noise_and_smooth(file_name):\n",
    "    img = cv2.imread(str(file_name), 0)\n",
    "    filtered = cv2.adaptiveThreshold(img, 255, cv2.ADAPTIVE_THRESH_MEAN_C, cv2.THRESH_BINARY, 9, 41)\n",
    "    kernel = np.ones((1, 1), np.uint8)\n",
    "    opening = cv2.morphologyEx(filtered, cv2.MORPH_OPEN, kernel)\n",
    "    closing = cv2.morphologyEx(opening, cv2.MORPH_CLOSE, kernel)\n",
    "    img = image_smoothen(img)\n",
    "    or_image = cv2.bitwise_or(img, closing)\n",
    "    return or_image"
   ]
  },
  {
   "cell_type": "markdown",
   "metadata": {},
   "source": [
    "These options are not used, because they do not result in successful OCR\n",
    "\n",
    "```python\n",
    "not_used_thresh = [cv2.THRESH_BINARY_INV, cv2.THRESH_TOZERO_INV]\n",
    "```"
   ]
  },
  {
   "cell_type": "markdown",
   "metadata": {},
   "source": [
    "[OpenCV](https://docs.opencv.org/3.3.0/d7/d4d/tutorial_py_thresholding.html)"
   ]
  },
  {
   "cell_type": "code",
   "execution_count": 10,
   "metadata": {},
   "outputs": [
    {
     "name": "stdout",
     "output_type": "stream",
     "text": [
      "Preprocessed Images\n",
      "\n",
      "Thresh: 0\n"
     ]
    },
    {
     "data": {
      "image/png": "[encoded data removed]",
      "text/plain": [
       "<Figure size 432x288 with 1 Axes>"
      ]
     },
     "metadata": {
      "needs_background": "light"
     },
     "output_type": "display_data"
    },
    {
     "name": "stdout",
     "output_type": "stream",
     "text": [
      "OCR Result: wo\n",
      "\n",
      "5\n",
      "\n",
      "20\n",
      "\n",
      " \n",
      "\n",
      " \n",
      "\n",
      "O244R\n",
      "\n",
      " \n",
      "\n",
      "Ft 2 2 0 30\n",
      "\n",
      "Thresh: 2\n"
     ]
    },
    {
     "data": {
      "image/png": "[encoded data removed]",
      "text/plain": [
       "<Figure size 432x288 with 1 Axes>"
      ]
     },
     "metadata": {
      "needs_background": "light"
     },
     "output_type": "display_data"
    },
    {
     "name": "stdout",
     "output_type": "stream",
     "text": [
      "OCR Result: wo\n",
      "\n",
      "5\n",
      "\n",
      "20\n",
      "\n",
      " \n",
      "\n",
      " \n",
      "\n",
      "O244R\n",
      "\n",
      " \n",
      "\n",
      "Ft 2 2 0 30\n",
      "\n",
      "Thresh: 3\n"
     ]
    },
    {
     "data": {
      "image/png": "[encoded data removed]",
      "text/plain": [
       "<Figure size 432x288 with 1 Axes>"
      ]
     },
     "metadata": {
      "needs_background": "light"
     },
     "output_type": "display_data"
    },
    {
     "name": "stdout",
     "output_type": "stream",
     "text": [
      "OCR Result: wo\n",
      "\n",
      "5\n",
      "\n",
      "20\n",
      "\n",
      " \n",
      "\n",
      " \n",
      "\n",
      "O244R\n",
      "\n",
      " \n",
      "\n",
      "Ft 2 2 0 30\n",
      "\n",
      "\n",
      "Unprocessed Images\n",
      "\n",
      "Thresh: 0\n"
     ]
    },
    {
     "data": {
      "image/png": "[encoded data removed]",
      "text/plain": [
       "<Figure size 432x288 with 1 Axes>"
      ]
     },
     "metadata": {
      "needs_background": "light"
     },
     "output_type": "display_data"
    },
    {
     "name": "stdout",
     "output_type": "stream",
     "text": [
      "OCR Result: wo\n",
      "\n",
      "5\n",
      "\n",
      "20\n",
      "\n",
      "Thresh: 2\n"
     ]
    },
    {
     "data": {
      "image/png": "[encoded data removed]",
      "text/plain": [
       "<Figure size 432x288 with 1 Axes>"
      ]
     },
     "metadata": {
      "needs_background": "light"
     },
     "output_type": "display_data"
    },
    {
     "name": "stdout",
     "output_type": "stream",
     "text": [
      "OCR Result: wo\n",
      "\n",
      "5\n",
      "\n",
      "20\n",
      "\n",
      " \n",
      "\n",
      " \n",
      "\n",
      "$2d4R.\n",
      "\n",
      " \n",
      "\n",
      "Fy 2 2 0 30\n",
      "\n",
      "Thresh: 3\n"
     ]
    },
    {
     "data": {
      "image/png": "[encoded data removed]",
      "text/plain": [
       "<Figure size 432x288 with 1 Axes>"
      ]
     },
     "metadata": {
      "needs_background": "light"
     },
     "output_type": "display_data"
    },
    {
     "name": "stdout",
     "output_type": "stream",
     "text": [
      "OCR Result: \n",
      "\n"
     ]
    }
   ],
   "source": [
    "cv2_thresh_list = [cv2.THRESH_BINARY, cv2.THRESH_TRUNC, cv2.THRESH_TOZERO]\n",
    "\n",
    "img1 = remove_noise_and_smooth(data / '0244R.jpg')\n",
    "img2 = cv2.imread(str(data / '0244R.jpg'), 0)\n",
    "for i, img in enumerate([img1, img2]):\n",
    "    img_type = {0: 'Preprocessed Images\\n',\n",
    "                1: '\\nUnprocessed Images\\n'}\n",
    "    print(img_type[i])\n",
    "    for item in cv2_thresh_list:\n",
    "        print('Thresh: {}'.format(str(item)))\n",
    "        _, thresh = cv2.threshold(img, 127, 255, item)\n",
    "        plt.imshow(thresh, 'gray')\n",
    "        f_name = f'{str(item)}.jpg'\n",
    "        plt.savefig(f_name)\n",
    "        plt.show()\n",
    "        print('OCR Result: {}\\n'.format(pytesseract.image_to_string(f_name)))"
   ]
  }
 ],
 "metadata": {
  "kernelspec": {
   "display_name": "Python 3",
   "language": "python",
   "name": "python3"
  },
  "language_info": {
   "codemirror_mode": {
    "name": "ipython",
    "version": 3
   },
   "file_extension": ".py",
   "mimetype": "text/x-python",
   "name": "python",
   "nbconvert_exporter": "python",
   "pygments_lexer": "ipython3",
   "version": "3.7.3"
  }
 },
 "nbformat": 4,
 "nbformat_minor": 4
}
