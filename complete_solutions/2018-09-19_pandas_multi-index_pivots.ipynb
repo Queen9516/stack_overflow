{
 "cells": [
  {
   "cell_type": "markdown",
   "metadata": {},
   "source": [
    "# [Setting multilevel index within pandas pivot table](https://stackoverflow.com/questions/52415977/setting-multilevel-index-within-pandas-pivot-table#comment91775795_52415977)"
   ]
  },
  {
   "cell_type": "code",
   "execution_count": null,
   "metadata": {},
   "outputs": [],
   "source": [
    "import pandas as pd"
   ]
  },
  {
   "cell_type": "markdown",
   "metadata": {},
   "source": [
    "### copy the data in the next cell to the clipboard\n",
    "\n",
    "#### don't change it to Markdown and don't execute it"
   ]
  },
  {
   "cell_type": "code",
   "execution_count": null,
   "metadata": {},
   "outputs": [],
   "source": [
    "DISTRICT,STATUS,DEM,REP,CON,GRE,WOR,IND,WEP,REF,OTH,BLANK\n",
    "1,Active,144470,162308,11778,1108,2066,23245,150.0,41.0,394,128547\n",
    "1,Inactive,10086,8290,643,96,130,1545,5.0,3.0,28,8436\n",
    "2,Active,159400,155996,8457,830,1712,18008,137.0,43.0,291,114789\n",
    "2,Inactive,9440,7752,428,61,119,1043,6.0,3.0,13,6832\n",
    "3,Active,188902,148599,5872,832,1193,19370,144.0,115.0,228,127907\n",
    "3,Inactive,12367,8835,305,68,69,1255,3.0,4.0,16,8315\n",
    "4,Active,204544,160861,4911,888,1286,17455,148.0,173.0,162,113486\n",
    "4,Inactive,15085,10302,315,74,119,1269,4.0,2.0,6,8442\n",
    "5,Active,298385,33244,1468,483,1251,8662,175.0,27.0,43,62106\n",
    "5,Inactive,20071,2273,88,30,126,643,9.0,3.0,2,4380\n",
    "6,Active,198024,52511,1951,592,849,8905,161.0,38.0,83,87250\n",
    "6,Inactive,15016,3699,145,35,77,789,4.0,0.0,9,6769\n",
    "7,Active,271911,22736,803,899,1369,6971,203.0,22.0,113,67437\n",
    "7,Inactive,31143,3355,133,155,219,1166,10.0,1.0,20,9357\n",
    "8,Active,324586,32846,1122,713,1666,8649,202.0,25.0,54,62021\n",
    "8,Inactive,36652,3183,141,109,271,1245,11.0,2.0,20,8419\n",
    "9,Active,313949,30234,1034,823,1474,7952,139.0,21.0,90,62772\n",
    "9,Inactive,33517,3184,119,115,257,1160,8.0,1.0,11,8696\n",
    "10,Active,247623,45926,1128,743,570,9287,128.0,24.0,152,79918\n",
    "10,Inactive,38988,9685,177,143,114,2749,9.0,0.0,57,16564\n",
    "11,Active,183564,110062,5299,654,1362,12817,168.0,67.0,137,88130\n",
    "11,Inactive,16846,7921,409,69,187,1259,5.0,2.0,19,8107\n",
    "12,Active,259877,54431,883,1009,622,13703,128.0,32.0,210,91923\n",
    "12,Inactive,44238,12638,200,244,136,3629,10.0,2.0,87,20458\n",
    "13,Active,327895,16808,738,840,1235,7730,238.0,37.0,82,54421\n",
    "13,Inactive,50766,3815,154,167,304,1816,18.0,1.0,27,11201\n",
    "14,Active,214570,33020,1694,650,993,7544,200.0,28.0,73,61960\n",
    "14,Inactive,21175,3395,241,70,145,946,9.0,0.0,17,6736\n",
    "15,Active,282788,13663,1069,426,1509,5539,284.0,37.0,23,46081\n",
    "15,Inactive,44336,2904,203,53,393,1077,28.0,1.0,12,8909\n",
    "16,Active,251841,62717,4039,584,1140,12216,153.0,72.0,92,76433\n",
    "16,Inactive,29544,6369,369,54,181,1430,6.0,0.0,16,9342\n",
    "17,Active,201872,102969,7728,807,1393,18013,131.0,206.0,97,106682\n",
    "17,Inactive,16792,8085,520,110,134,1658,3.0,3.0,13,10190\n",
    "18,Active,154331,135552,8585,1126,1764,22973,157.0,104.0,350,105443\n",
    "18,Inactive,12972,9506,574,133,196,1995,9.0,4.0,39,9418\n",
    "19,Active,141289,138473,10576,1867,2155,26423,167.0,85.0,360,114937\n",
    "19,Inactive,11503,8552,656,209,245,2350,9.0,4.0,37,10392\n",
    "20,Active,178650,107575,10258,1452,2098,25382,186.0,99.0,295,107500\n",
    "20,Inactive,17920,7738,768,189,353,2570,25.0,1.0,75,11487\n",
    "21,Active,117878,166307,5996,1243,1589,24589,96.0,65.0,201,83284\n",
    "21,Inactive,10560,11493,502,175,245,2646,8.0,8.0,25,10898\n",
    "22,Active,127765,158621,6587,1179,1818,23179,139.0,90.0,377,80746\n",
    "22,Inactive,11143,9472,478,144,262,2183,23.0,11.0,49,8998\n",
    "23,Active,128565,153949,7342,1452,1986,21646,136.0,93.0,357,84173\n",
    "23,Inactive,11331,8808,510,196,232,2032,14.0,8.0,44,9399\n",
    "24,Active,143319,138353,8370,1394,1844,21997,147.0,55.0,521,103922\n",
    "24,Inactive,15962,9745,642,211,325,2496,16.0,6.0,74,12229\n",
    "25,Active,178181,120433,7400,1180,1404,19377,163.0,43.0,607,103153\n",
    "25,Inactive,15180,6838,404,158,146,1533,19.0,3.0,61,8252\n",
    "26,Active,234929,90506,7508,1351,2372,19155,192.0,87.0,444,74621\n",
    "26,Inactive,19306,5621,405,155,284,1602,22.0,7.0,47,8109\n",
    "27,Active,142703,183641,12825,1337,2299,25525,102.0,73.0,627,97801\n",
    "27,Inactive,7283,7959,550,102,165,1433,8.0,0.0,42,6377"
   ]
  },
  {
   "cell_type": "markdown",
   "metadata": {},
   "source": [
    "### execute the following cell after copying the previous cell"
   ]
  },
  {
   "cell_type": "code",
   "execution_count": null,
   "metadata": {},
   "outputs": [],
   "source": [
    "df = pd.read_clipboard(sep=',')"
   ]
  },
  {
   "cell_type": "code",
   "execution_count": null,
   "metadata": {},
   "outputs": [],
   "source": [
    "df.head()"
   ]
  },
  {
   "cell_type": "markdown",
   "metadata": {},
   "source": [
    "## DataFrame set_index"
   ]
  },
  {
   "cell_type": "code",
   "execution_count": null,
   "metadata": {},
   "outputs": [],
   "source": [
    "df_multi =  df.set_index(['DISTRICT', 'DEM', 'REP', 'CON', 'GRE', 'WOR', 'IND', 'WEP', 'REF', 'OTH', 'BLANK'])"
   ]
  },
  {
   "cell_type": "code",
   "execution_count": null,
   "metadata": {},
   "outputs": [],
   "source": [
    "df_multi.head(6)"
   ]
  },
  {
   "cell_type": "markdown",
   "metadata": {},
   "source": [
    "### Indexing"
   ]
  },
  {
   "cell_type": "code",
   "execution_count": null,
   "metadata": {},
   "outputs": [],
   "source": [
    "df_multi.loc[(1)]"
   ]
  },
  {
   "cell_type": "markdown",
   "metadata": {},
   "source": [
    "## With pivot"
   ]
  },
  {
   "cell_type": "code",
   "execution_count": null,
   "metadata": {},
   "outputs": [],
   "source": [
    "df_pivot = df.pivot(index='DISTRICT', columns='STATUS')\n",
    "df_pivot.head()"
   ]
  },
  {
   "cell_type": "markdown",
   "metadata": {},
   "source": [
    "### Indexing"
   ]
  },
  {
   "cell_type": "code",
   "execution_count": null,
   "metadata": {},
   "outputs": [],
   "source": [
    "df_pivot['DEM']['Active'].head()"
   ]
  },
  {
   "cell_type": "code",
   "execution_count": null,
   "metadata": {},
   "outputs": [],
   "source": [
    "df_pivot.loc[1]"
   ]
  },
  {
   "cell_type": "markdown",
   "metadata": {},
   "source": [
    "## With pivot_table"
   ]
  },
  {
   "cell_type": "code",
   "execution_count": null,
   "metadata": {},
   "outputs": [],
   "source": [
    "df_pt = df.pivot_table(index=['STATUS', 'DISTRICT'])\n",
    "df_pt"
   ]
  },
  {
   "cell_type": "markdown",
   "metadata": {},
   "source": [
    "### Indexing"
   ]
  },
  {
   "cell_type": "code",
   "execution_count": null,
   "metadata": {},
   "outputs": [],
   "source": [
    "df_pt.loc[('Active')]"
   ]
  },
  {
   "cell_type": "code",
   "execution_count": null,
   "metadata": {},
   "outputs": [],
   "source": [
    "df_pt.loc[('Active', 1)]['BLANK']"
   ]
  },
  {
   "cell_type": "markdown",
   "metadata": {},
   "source": [
    "## Why it won't work"
   ]
  },
  {
   "cell_type": "code",
   "execution_count": null,
   "metadata": {},
   "outputs": [],
   "source": [
    "df_in = df.pivot_table(index=['DISTRICT', 'DEM'], columns='STATUS', values='BLANK')\n",
    "df_in"
   ]
  },
  {
   "cell_type": "code",
   "execution_count": null,
   "metadata": {},
   "outputs": [],
   "source": [
    "df_in = df.pivot_table(index=['DISTRICT', 'DEM'], columns='STATUS')\n",
    "df_in"
   ]
  },
  {
   "cell_type": "code",
   "execution_count": null,
   "metadata": {},
   "outputs": [],
   "source": [
    "df_in = df.pivot_table(index=['DISTRICT', 'DEM', 'REP', 'CON', 'GRE', 'WOR', 'IND', 'WEP', 'REF', 'OTH'], columns='STATUS')\n",
    "df_in"
   ]
  },
  {
   "cell_type": "code",
   "execution_count": null,
   "metadata": {},
   "outputs": [],
   "source": [
    "df_in = df.pivot_table(index=['DISTRICT', 'DEM', 'REP', 'CON', 'GRE', 'WOR', 'IND', 'WEP', 'REF'], columns='STATUS', values=['BLANK', 'OTH'])\n",
    "df_in"
   ]
  },
  {
   "cell_type": "code",
   "execution_count": null,
   "metadata": {},
   "outputs": [],
   "source": []
  }
 ],
 "metadata": {
  "kernelspec": {
   "display_name": "Python 3",
   "language": "python",
   "name": "python3"
  },
  "language_info": {
   "codemirror_mode": {
    "name": "ipython",
    "version": 3
   },
   "file_extension": ".py",
   "mimetype": "text/x-python",
   "name": "python",
   "nbconvert_exporter": "python",
   "pygments_lexer": "ipython3",
   "version": "3.6.6"
  }
 },
 "nbformat": 4,
 "nbformat_minor": 2
}
