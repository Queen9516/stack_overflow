{
 "cells": [
  {
   "cell_type": "markdown",
   "metadata": {},
   "source": [
    "# Extract Twitter Followers and Follower Tweets with Tweepy\n",
    "\n",
    "- This notebook was made to answer [How to extract data from a Tweepy object into a pandas dataframe?][1] on [Stack Overflow][2].\n",
    "\n",
    "  [1]: https://stackoverflow.com/questions/58666135/how-to-extract-data-from-a-tweepy-object-into-a-pandas-dataframe\n",
    "  [2]: https://stackoverflow.com/"
   ]
  },
  {
   "cell_type": "code",
   "execution_count": null,
   "metadata": {},
   "outputs": [],
   "source": [
    "import tweepy\n",
    "import json\n",
    "import pandas as pd\n",
    "from pandas.io.json import json_normalize\n",
    "from datetime import datetime"
   ]
  },
  {
   "cell_type": "code",
   "execution_count": null,
   "metadata": {},
   "outputs": [],
   "source": [
    "pd.set_option('display.max_columns', 700)\n",
    "pd.set_option('display.max_rows', 100)\n",
    "pd.set_option('display.min_rows', 10)\n",
    "pd.set_option('display.expand_frame_repr', True)"
   ]
  },
  {
   "cell_type": "markdown",
   "metadata": {},
   "source": [
    "## Convert the tweepy object to JSON:\n",
    "\n",
    "- Attribution to [Tweepy for beginners][1]\n",
    "- `followers` is a generator containing `User(...)`, which is a `tweepy.models.User` type\n",
    " - Wrap `followers` in `list()` to unpack the generator, or just iterate through the `followers` without unpacking it.\n",
    " - I unpacked it into a `list` in case there's some need to inspect the content\n",
    "- Extract `_json` for each user, with `def jsonify_tweepy`\n",
    "- Call the function to create a list containing `_json` for each follower, in a JSON format\n",
    "- Load it into a dataframe with `json_normalize`.\n",
    "- You'll need a [Twitter Developer][2] account.\n",
    "\n",
    "### To get followers:\n",
    "\n",
    "  [1]: https://towardsdatascience.com/tweepy-for-beginners-24baf21f2c25\n",
    "  [2]: https://developer.twitter.com/en.html"
   ]
  },
  {
   "cell_type": "code",
   "execution_count": null,
   "metadata": {},
   "outputs": [],
   "source": [
    "#insert your Twitter keys here\n",
    "consumer_key = ''\n",
    "consumer_secret= ''\n",
    "access_token = ''\n",
    "access_token_secret = ''\n",
    "\n",
    "auth = tweepy.auth.OAuthHandler(consumer_key, consumer_secret)\n",
    "auth.set_access_token(access_token, access_token_secret)\n",
    "api = tweepy.API(auth, wait_on_rate_limit=True, wait_on_rate_limit_notify=True)\n",
    "\n",
    "followers = list(tweepy.Cursor(api.followers).items())\n",
    "\n",
    "# function to convert _json to JSON\n",
    "def jsonify_tweepy(tweepy_object):\n",
    "    json_str = json.dumps(tweepy_object._json)\n",
    "    return json.loads(json_str)\n",
    "\n",
    "# Call the function and unload each _json into follower_list\n",
    "followers_list = [jsonify_tweepy(follower) for follower in followers]\n",
    "\n",
    "# Convert followers_list to a pandas dataframe\n",
    "df = json_normalize(followers_list)\n",
    "\n",
    "# save to csv\n",
    "df.to_csv('followers.csv', index=False)"
   ]
  },
  {
   "cell_type": "markdown",
   "metadata": {},
   "source": [
    "### To get follower tweets:\n",
    "\n",
    "- Use `class TweetMiner`, as shown in the link at the top\n",
    "- As already noted, I did not write this class, but I did use it and it performs as specified, to extract tweets.\n",
    "- That said, bare `except` clauses are a no-no.\n",
    "- `twitter_keys` are coming from outer scope variables."
   ]
  },
  {
   "cell_type": "code",
   "execution_count": null,
   "metadata": {},
   "outputs": [],
   "source": [
    "class TweetMiner(object):\n",
    "\n",
    "    result_limit = 20    \n",
    "    data = list()\n",
    "    api = False\n",
    "\n",
    "    twitter_keys = {'consumer_key': consumer_key,\n",
    "                    'consumer_secret': consumer_secret,\n",
    "                    'access_token_key': access_token,\n",
    "                    'access_token_secret': access_token_secret}\n",
    "    \n",
    "    def __init__(self, keys_dict=twitter_keys, api=api, result_limit=20):\n",
    "        \n",
    "        self.twitter_keys = keys_dict\n",
    "        \n",
    "        auth = tweepy.OAuthHandler(keys_dict['consumer_key'],\n",
    "                                   keys_dict['consumer_secret'])\n",
    "        auth.set_access_token(keys_dict['access_token_key'],\n",
    "                              keys_dict['access_token_secret'])\n",
    "        \n",
    "        self.api = tweepy.API(auth, wait_on_rate_limit=True,\n",
    "                              wait_on_rate_limit_notify=True)\n",
    "        self.twitter_keys = keys_dict\n",
    "        self.result_limit = result_limit\n",
    "        \n",
    "\n",
    "    def mine_user_tweets(self, user, mine_rewteets=False, max_pages=5):\n",
    "\n",
    "        data = list()\n",
    "        last_tweet_id = False\n",
    "        page = 1\n",
    "        \n",
    "        while page <= max_pages:\n",
    "            if last_tweet_id:\n",
    "                statuses =  self.api.user_timeline(screen_name=user,\n",
    "                                                   count=self.result_limit,\n",
    "                                                   max_id=last_tweet_id - 1,\n",
    "                                                   tweet_mode = 'extended',\n",
    "                                                   include_retweets=True)        \n",
    "            else:\n",
    "                statuses = self.api.user_timeline(screen_name=user,\n",
    "                                                  count=self.result_limit,\n",
    "                                                  tweet_mode = 'extended',\n",
    "                                                  include_retweets=True)\n",
    "                \n",
    "            for item in statuses:\n",
    "\n",
    "                mined = {'tweet_id': item.id,\n",
    "                         'name': item.user.name,\n",
    "                         'screen_name': item.user.screen_name,\n",
    "                         'retweet_count': item.retweet_count,\n",
    "                         'text': item.full_text,\n",
    "                         'mined_at': datetime.now(),\n",
    "                         'created_at': item.created_at,\n",
    "                         'favourite_count': item.favorite_count,\n",
    "                         'hashtags': item.entities['hashtags'],\n",
    "                         'status_count': item.user.statuses_count,\n",
    "                         'location': item.place,\n",
    "                         'source_device': item.source}\n",
    "                \n",
    "                try:\n",
    "                    mined['retweet_text'] = item.retweeted_status.full_text\n",
    "                except:\n",
    "                    mined['retweet_text'] = 'None'\n",
    "                try:\n",
    "                    mined['quote_text'] = item.quoted_status.full_text\n",
    "                    mined['quote_screen_name'] = status.quoted_status.user.screen_name\n",
    "                except:\n",
    "                    mined['quote_text'] = 'None'\n",
    "                    mined['quote_screen_name'] = 'None'\n",
    "                \n",
    "                last_tweet_id = item.id\n",
    "                data.append(mined)\n",
    "                \n",
    "            page += 1\n",
    "            \n",
    "        return data"
   ]
  },
  {
   "cell_type": "markdown",
   "metadata": {},
   "source": [
    "#### Call the class\n",
    "\n",
    "- The original object does not contain tweets\n",
    "- Using `df` from above, get all the followers and use `class TweetMiner` to download the tweets for each user.\n",
    "- The follow code, will create a dict of dataframes, `mined_tweets_dict`, where each key is a user."
   ]
  },
  {
   "cell_type": "code",
   "execution_count": null,
   "metadata": {},
   "outputs": [],
   "source": [
    "miner=TweetMiner(result_limit=200)\n",
    "mined_tweets_dict = dict()\n",
    "for name in df['screen_name'].unique():\n",
    "    try:\n",
    "        mined_tweets = miner.mine_user_tweets(user=name, max_pages=17)\n",
    "        mined_tweets_dict[name] = pd.DataFrame(mined_tweets)\n",
    "    except tweepy.TweepError as e:\n",
    "        print(f'{name} could not be processed because {e}')"
   ]
  },
  {
   "cell_type": "markdown",
   "metadata": {},
   "source": [
    "### Save with `.to_csv`:"
   ]
  },
  {
   "cell_type": "code",
   "execution_count": null,
   "metadata": {},
   "outputs": [],
   "source": [
    "with open('follower_tweets.csv', mode='a', encoding='utf-8') as f:\n",
    "    for i, df in enumerate(mined_tweets_dict.values()):\n",
    "        if i == 0:\n",
    "            df.to_csv(f, header=True, index=False)\n",
    "        else:\n",
    "            df.to_csv(f, header=False, index=False)"
   ]
  }
 ],
 "metadata": {
  "kernelspec": {
   "display_name": "Python 3",
   "language": "python",
   "name": "python3"
  },
  "language_info": {
   "codemirror_mode": {
    "name": "ipython",
    "version": 3
   },
   "file_extension": ".py",
   "mimetype": "text/x-python",
   "name": "python",
   "nbconvert_exporter": "python",
   "pygments_lexer": "ipython3",
   "version": "3.7.5"
  }
 },
 "nbformat": 4,
 "nbformat_minor": 4
}
