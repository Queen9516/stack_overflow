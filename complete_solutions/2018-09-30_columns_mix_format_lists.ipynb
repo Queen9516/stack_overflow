{
 "cells": [
  {
   "cell_type": "markdown",
   "metadata": {},
   "source": [
    "# [How is a csv with columns of irregularly formatted lists imported into a pandas DataFrame?](https://stackoverflow.com/questions/52582499/read-in-a-csv-file-as-a-dataframe/52583505#52583505)"
   ]
  },
  {
   "cell_type": "code",
   "execution_count": 1,
   "metadata": {},
   "outputs": [],
   "source": [
    "import pandas as pd\n",
    "import json\n",
    "from pandas.io.json import json_normalize\n",
    "from pprint import pprint as pp\n",
    "import matplotlib.pyplot as plt\n",
    "import re"
   ]
  },
  {
   "cell_type": "markdown",
   "metadata": {},
   "source": [
    "## Read the file"
   ]
  },
  {
   "cell_type": "code",
   "execution_count": 2,
   "metadata": {},
   "outputs": [],
   "source": [
    "df = pd.read_csv('data/2018-09-30_columns_mixed_format_lists.csv', index_col=0)"
   ]
  },
  {
   "cell_type": "code",
   "execution_count": 3,
   "metadata": {},
   "outputs": [
    {
     "data": {
      "text/html": [
       "<div>\n",
       "<style scoped>\n",
       "    .dataframe tbody tr th:only-of-type {\n",
       "        vertical-align: middle;\n",
       "    }\n",
       "\n",
       "    .dataframe tbody tr th {\n",
       "        vertical-align: top;\n",
       "    }\n",
       "\n",
       "    .dataframe thead th {\n",
       "        text-align: right;\n",
       "    }\n",
       "</style>\n",
       "<table border=\"1\" class=\"dataframe\">\n",
       "  <thead>\n",
       "    <tr style=\"text-align: right;\">\n",
       "      <th></th>\n",
       "      <th>position_c</th>\n",
       "      <th>position_r_theta_phi</th>\n",
       "      <th>position_start</th>\n",
       "      <th>position_end</th>\n",
       "    </tr>\n",
       "  </thead>\n",
       "  <tbody>\n",
       "    <tr>\n",
       "      <th>0</th>\n",
       "      <td>[14.533842862081656, 0.03208616222764249, 56.9...</td>\n",
       "      <td>[58.751477765706575, 0.2499741778590546, 0.002...</td>\n",
       "      <td>[ 19271.0805564   17808.46240249  18693.4114863 ]</td>\n",
       "      <td>[ 19270.18114729  18215.86140969  18693.4114863 ]</td>\n",
       "    </tr>\n",
       "    <tr>\n",
       "      <th>1</th>\n",
       "      <td>[15.565867354362126, 2.2766677669751516, 82.66...</td>\n",
       "      <td>[84.149865052813752, 0.1880523977235686, 0.145...</td>\n",
       "      <td>[ 19301.1424449   17812.85092455  18719.15239368]</td>\n",
       "      <td>[ 19242.18330777  18215.96205085  18719.15239368]</td>\n",
       "    </tr>\n",
       "    <tr>\n",
       "      <th>2</th>\n",
       "      <td>[-5.4087970793661952, 8.7687766840863333, 82.9...</td>\n",
       "      <td>[83.541242779224319, 0.12364001055133951, 2.12...</td>\n",
       "      <td>[ 19424.05948468  18127.83826079  18719.38958887]</td>\n",
       "      <td>[ 19077.31693912  17913.95893244  18719.38958887]</td>\n",
       "    </tr>\n",
       "    <tr>\n",
       "      <th>3</th>\n",
       "      <td>[5.4876143325782323, -5.6088702278284472, 22.3...</td>\n",
       "      <td>[23.704501909037916, 0.3373934168579211, 5.486...</td>\n",
       "      <td>[ 19115.9817056   17864.06576253  18658.85413363]</td>\n",
       "      <td>[ 19407.18754103  18148.97613687  18658.85413363]</td>\n",
       "    </tr>\n",
       "  </tbody>\n",
       "</table>\n",
       "</div>"
      ],
      "text/plain": [
       "                                          position_c  \\\n",
       "0  [14.533842862081656, 0.03208616222764249, 56.9...   \n",
       "1  [15.565867354362126, 2.2766677669751516, 82.66...   \n",
       "2  [-5.4087970793661952, 8.7687766840863333, 82.9...   \n",
       "3  [5.4876143325782323, -5.6088702278284472, 22.3...   \n",
       "\n",
       "                                position_r_theta_phi  \\\n",
       "0  [58.751477765706575, 0.2499741778590546, 0.002...   \n",
       "1  [84.149865052813752, 0.1880523977235686, 0.145...   \n",
       "2  [83.541242779224319, 0.12364001055133951, 2.12...   \n",
       "3  [23.704501909037916, 0.3373934168579211, 5.486...   \n",
       "\n",
       "                                      position_start  \\\n",
       "0  [ 19271.0805564   17808.46240249  18693.4114863 ]   \n",
       "1  [ 19301.1424449   17812.85092455  18719.15239368]   \n",
       "2  [ 19424.05948468  18127.83826079  18719.38958887]   \n",
       "3  [ 19115.9817056   17864.06576253  18658.85413363]   \n",
       "\n",
       "                                        position_end  \n",
       "0  [ 19270.18114729  18215.86140969  18693.4114863 ]  \n",
       "1  [ 19242.18330777  18215.96205085  18719.15239368]  \n",
       "2  [ 19077.31693912  17913.95893244  18719.38958887]  \n",
       "3  [ 19407.18754103  18148.97613687  18658.85413363]  "
      ]
     },
     "execution_count": 3,
     "metadata": {},
     "output_type": "execute_result"
    }
   ],
   "source": [
    "df"
   ]
  },
  {
   "cell_type": "markdown",
   "metadata": {},
   "source": [
    "## Fix the lists"
   ]
  },
  {
   "cell_type": "code",
   "execution_count": 4,
   "metadata": {},
   "outputs": [],
   "source": [
    "def list_fix(row):\n",
    "    new_list = []\n",
    "    for x in row:\n",
    "        new_list.append(re.findall(r\"[-+]?\\d*\\.\\d+|\\d+\", x))\n",
    "    return new_list"
   ]
  },
  {
   "cell_type": "code",
   "execution_count": 5,
   "metadata": {},
   "outputs": [],
   "source": [
    "df_processed = df.apply(lambda row: list_fix(row))"
   ]
  },
  {
   "cell_type": "code",
   "execution_count": 6,
   "metadata": {},
   "outputs": [
    {
     "data": {
      "text/html": [
       "<div>\n",
       "<style scoped>\n",
       "    .dataframe tbody tr th:only-of-type {\n",
       "        vertical-align: middle;\n",
       "    }\n",
       "\n",
       "    .dataframe tbody tr th {\n",
       "        vertical-align: top;\n",
       "    }\n",
       "\n",
       "    .dataframe thead th {\n",
       "        text-align: right;\n",
       "    }\n",
       "</style>\n",
       "<table border=\"1\" class=\"dataframe\">\n",
       "  <thead>\n",
       "    <tr style=\"text-align: right;\">\n",
       "      <th></th>\n",
       "      <th>position_c</th>\n",
       "      <th>position_r_theta_phi</th>\n",
       "      <th>position_start</th>\n",
       "      <th>position_end</th>\n",
       "    </tr>\n",
       "  </thead>\n",
       "  <tbody>\n",
       "    <tr>\n",
       "      <th>0</th>\n",
       "      <td>[14.533842862081656, 0.03208616222764249, 56.9...</td>\n",
       "      <td>[58.751477765706575, 0.2499741778590546, 0.002...</td>\n",
       "      <td>[19271.0805564, 17808.46240249, 18693.4114863]</td>\n",
       "      <td>[19270.18114729, 18215.86140969, 18693.4114863]</td>\n",
       "    </tr>\n",
       "    <tr>\n",
       "      <th>1</th>\n",
       "      <td>[15.565867354362126, 2.2766677669751516, 82.66...</td>\n",
       "      <td>[84.149865052813752, 0.1880523977235686, 0.145...</td>\n",
       "      <td>[19301.1424449, 17812.85092455, 18719.15239368]</td>\n",
       "      <td>[19242.18330777, 18215.96205085, 18719.15239368]</td>\n",
       "    </tr>\n",
       "    <tr>\n",
       "      <th>2</th>\n",
       "      <td>[-5.4087970793661952, 8.7687766840863333, 82.9...</td>\n",
       "      <td>[83.541242779224319, 0.12364001055133951, 2.12...</td>\n",
       "      <td>[19424.05948468, 18127.83826079, 18719.38958887]</td>\n",
       "      <td>[19077.31693912, 17913.95893244, 18719.38958887]</td>\n",
       "    </tr>\n",
       "    <tr>\n",
       "      <th>3</th>\n",
       "      <td>[5.4876143325782323, -5.6088702278284472, 22.3...</td>\n",
       "      <td>[23.704501909037916, 0.3373934168579211, 5.486...</td>\n",
       "      <td>[19115.9817056, 17864.06576253, 18658.85413363]</td>\n",
       "      <td>[19407.18754103, 18148.97613687, 18658.85413363]</td>\n",
       "    </tr>\n",
       "  </tbody>\n",
       "</table>\n",
       "</div>"
      ],
      "text/plain": [
       "                                          position_c  \\\n",
       "0  [14.533842862081656, 0.03208616222764249, 56.9...   \n",
       "1  [15.565867354362126, 2.2766677669751516, 82.66...   \n",
       "2  [-5.4087970793661952, 8.7687766840863333, 82.9...   \n",
       "3  [5.4876143325782323, -5.6088702278284472, 22.3...   \n",
       "\n",
       "                                position_r_theta_phi  \\\n",
       "0  [58.751477765706575, 0.2499741778590546, 0.002...   \n",
       "1  [84.149865052813752, 0.1880523977235686, 0.145...   \n",
       "2  [83.541242779224319, 0.12364001055133951, 2.12...   \n",
       "3  [23.704501909037916, 0.3373934168579211, 5.486...   \n",
       "\n",
       "                                     position_start  \\\n",
       "0    [19271.0805564, 17808.46240249, 18693.4114863]   \n",
       "1   [19301.1424449, 17812.85092455, 18719.15239368]   \n",
       "2  [19424.05948468, 18127.83826079, 18719.38958887]   \n",
       "3   [19115.9817056, 17864.06576253, 18658.85413363]   \n",
       "\n",
       "                                       position_end  \n",
       "0   [19270.18114729, 18215.86140969, 18693.4114863]  \n",
       "1  [19242.18330777, 18215.96205085, 18719.15239368]  \n",
       "2  [19077.31693912, 17913.95893244, 18719.38958887]  \n",
       "3  [19407.18754103, 18148.97613687, 18658.85413363]  "
      ]
     },
     "execution_count": 6,
     "metadata": {},
     "output_type": "execute_result"
    }
   ],
   "source": [
    "df_processed"
   ]
  },
  {
   "cell_type": "markdown",
   "metadata": {},
   "source": [
    "## Unpack each column"
   ]
  },
  {
   "cell_type": "code",
   "execution_count": 7,
   "metadata": {},
   "outputs": [],
   "source": [
    "pos_c = df_processed.position_c.apply(pd.Series)"
   ]
  },
  {
   "cell_type": "code",
   "execution_count": 8,
   "metadata": {},
   "outputs": [],
   "source": [
    "pos_c = pos_c.rename(columns=lambda x: f'position_c_{x}')"
   ]
  },
  {
   "cell_type": "code",
   "execution_count": 9,
   "metadata": {},
   "outputs": [
    {
     "data": {
      "text/html": [
       "<div>\n",
       "<style scoped>\n",
       "    .dataframe tbody tr th:only-of-type {\n",
       "        vertical-align: middle;\n",
       "    }\n",
       "\n",
       "    .dataframe tbody tr th {\n",
       "        vertical-align: top;\n",
       "    }\n",
       "\n",
       "    .dataframe thead th {\n",
       "        text-align: right;\n",
       "    }\n",
       "</style>\n",
       "<table border=\"1\" class=\"dataframe\">\n",
       "  <thead>\n",
       "    <tr style=\"text-align: right;\">\n",
       "      <th></th>\n",
       "      <th>position_c_0</th>\n",
       "      <th>position_c_1</th>\n",
       "      <th>position_c_2</th>\n",
       "    </tr>\n",
       "  </thead>\n",
       "  <tbody>\n",
       "    <tr>\n",
       "      <th>0</th>\n",
       "      <td>14.533842862081656</td>\n",
       "      <td>0.03208616222764249</td>\n",
       "      <td>56.92541191588316</td>\n",
       "    </tr>\n",
       "    <tr>\n",
       "      <th>1</th>\n",
       "      <td>15.565867354362126</td>\n",
       "      <td>2.2766677669751516</td>\n",
       "      <td>82.666319295054564</td>\n",
       "    </tr>\n",
       "    <tr>\n",
       "      <th>2</th>\n",
       "      <td>-5.4087970793661952</td>\n",
       "      <td>8.7687766840863333</td>\n",
       "      <td>82.903514489531517</td>\n",
       "    </tr>\n",
       "    <tr>\n",
       "      <th>3</th>\n",
       "      <td>5.4876143325782323</td>\n",
       "      <td>-5.6088702278284472</td>\n",
       "      <td>22.368059246608027</td>\n",
       "    </tr>\n",
       "  </tbody>\n",
       "</table>\n",
       "</div>"
      ],
      "text/plain": [
       "          position_c_0         position_c_1        position_c_2\n",
       "0   14.533842862081656  0.03208616222764249   56.92541191588316\n",
       "1   15.565867354362126   2.2766677669751516  82.666319295054564\n",
       "2  -5.4087970793661952   8.7687766840863333  82.903514489531517\n",
       "3   5.4876143325782323  -5.6088702278284472  22.368059246608027"
      ]
     },
     "execution_count": 9,
     "metadata": {},
     "output_type": "execute_result"
    }
   ],
   "source": [
    "pos_c"
   ]
  },
  {
   "cell_type": "code",
   "execution_count": 10,
   "metadata": {},
   "outputs": [],
   "source": [
    "pos_rtp = df_processed.position_r_theta_phi.apply(pd.Series)"
   ]
  },
  {
   "cell_type": "code",
   "execution_count": 11,
   "metadata": {},
   "outputs": [],
   "source": [
    "pos_rtp = pos_rtp.rename(columns=lambda x: f'position_r_theta_phi_{x}')"
   ]
  },
  {
   "cell_type": "code",
   "execution_count": 12,
   "metadata": {},
   "outputs": [
    {
     "data": {
      "text/html": [
       "<div>\n",
       "<style scoped>\n",
       "    .dataframe tbody tr th:only-of-type {\n",
       "        vertical-align: middle;\n",
       "    }\n",
       "\n",
       "    .dataframe tbody tr th {\n",
       "        vertical-align: top;\n",
       "    }\n",
       "\n",
       "    .dataframe thead th {\n",
       "        text-align: right;\n",
       "    }\n",
       "</style>\n",
       "<table border=\"1\" class=\"dataframe\">\n",
       "  <thead>\n",
       "    <tr style=\"text-align: right;\">\n",
       "      <th></th>\n",
       "      <th>position_r_theta_phi_0</th>\n",
       "      <th>position_r_theta_phi_1</th>\n",
       "      <th>position_r_theta_phi_2</th>\n",
       "    </tr>\n",
       "  </thead>\n",
       "  <tbody>\n",
       "    <tr>\n",
       "      <th>0</th>\n",
       "      <td>58.751477765706575</td>\n",
       "      <td>0.2499741778590546</td>\n",
       "      <td>0.00220768246933476</td>\n",
       "    </tr>\n",
       "    <tr>\n",
       "      <th>1</th>\n",
       "      <td>84.149865052813752</td>\n",
       "      <td>0.1880523977235686</td>\n",
       "      <td>0.1452305063941714</td>\n",
       "    </tr>\n",
       "    <tr>\n",
       "      <th>2</th>\n",
       "      <td>83.541242779224319</td>\n",
       "      <td>0.12364001055133951</td>\n",
       "      <td>2.1234950828837396</td>\n",
       "    </tr>\n",
       "    <tr>\n",
       "      <th>3</th>\n",
       "      <td>23.704501909037916</td>\n",
       "      <td>0.3373934168579211</td>\n",
       "      <td>5.4868601633848755</td>\n",
       "    </tr>\n",
       "  </tbody>\n",
       "</table>\n",
       "</div>"
      ],
      "text/plain": [
       "  position_r_theta_phi_0 position_r_theta_phi_1 position_r_theta_phi_2\n",
       "0     58.751477765706575     0.2499741778590546    0.00220768246933476\n",
       "1     84.149865052813752     0.1880523977235686     0.1452305063941714\n",
       "2     83.541242779224319    0.12364001055133951     2.1234950828837396\n",
       "3     23.704501909037916     0.3373934168579211     5.4868601633848755"
      ]
     },
     "execution_count": 12,
     "metadata": {},
     "output_type": "execute_result"
    }
   ],
   "source": [
    "pos_rtp"
   ]
  },
  {
   "cell_type": "code",
   "execution_count": 13,
   "metadata": {},
   "outputs": [],
   "source": [
    "pos_s = df_processed.position_start.apply(pd.Series)"
   ]
  },
  {
   "cell_type": "code",
   "execution_count": 14,
   "metadata": {},
   "outputs": [],
   "source": [
    "pos_s = pos_s.rename(columns=lambda x: f'position_start_{x}')"
   ]
  },
  {
   "cell_type": "code",
   "execution_count": 15,
   "metadata": {},
   "outputs": [
    {
     "data": {
      "text/html": [
       "<div>\n",
       "<style scoped>\n",
       "    .dataframe tbody tr th:only-of-type {\n",
       "        vertical-align: middle;\n",
       "    }\n",
       "\n",
       "    .dataframe tbody tr th {\n",
       "        vertical-align: top;\n",
       "    }\n",
       "\n",
       "    .dataframe thead th {\n",
       "        text-align: right;\n",
       "    }\n",
       "</style>\n",
       "<table border=\"1\" class=\"dataframe\">\n",
       "  <thead>\n",
       "    <tr style=\"text-align: right;\">\n",
       "      <th></th>\n",
       "      <th>position_start_0</th>\n",
       "      <th>position_start_1</th>\n",
       "      <th>position_start_2</th>\n",
       "    </tr>\n",
       "  </thead>\n",
       "  <tbody>\n",
       "    <tr>\n",
       "      <th>0</th>\n",
       "      <td>19271.0805564</td>\n",
       "      <td>17808.46240249</td>\n",
       "      <td>18693.4114863</td>\n",
       "    </tr>\n",
       "    <tr>\n",
       "      <th>1</th>\n",
       "      <td>19301.1424449</td>\n",
       "      <td>17812.85092455</td>\n",
       "      <td>18719.15239368</td>\n",
       "    </tr>\n",
       "    <tr>\n",
       "      <th>2</th>\n",
       "      <td>19424.05948468</td>\n",
       "      <td>18127.83826079</td>\n",
       "      <td>18719.38958887</td>\n",
       "    </tr>\n",
       "    <tr>\n",
       "      <th>3</th>\n",
       "      <td>19115.9817056</td>\n",
       "      <td>17864.06576253</td>\n",
       "      <td>18658.85413363</td>\n",
       "    </tr>\n",
       "  </tbody>\n",
       "</table>\n",
       "</div>"
      ],
      "text/plain": [
       "  position_start_0 position_start_1 position_start_2\n",
       "0    19271.0805564   17808.46240249    18693.4114863\n",
       "1    19301.1424449   17812.85092455   18719.15239368\n",
       "2   19424.05948468   18127.83826079   18719.38958887\n",
       "3    19115.9817056   17864.06576253   18658.85413363"
      ]
     },
     "execution_count": 15,
     "metadata": {},
     "output_type": "execute_result"
    }
   ],
   "source": [
    "pos_s"
   ]
  },
  {
   "cell_type": "code",
   "execution_count": 16,
   "metadata": {},
   "outputs": [],
   "source": [
    "pos_e = df_processed.position_end.apply(pd.Series)"
   ]
  },
  {
   "cell_type": "code",
   "execution_count": 17,
   "metadata": {},
   "outputs": [],
   "source": [
    "pos_e = pos_e.rename(columns=lambda x: f'position_end_{x}')"
   ]
  },
  {
   "cell_type": "code",
   "execution_count": 18,
   "metadata": {},
   "outputs": [
    {
     "data": {
      "text/html": [
       "<div>\n",
       "<style scoped>\n",
       "    .dataframe tbody tr th:only-of-type {\n",
       "        vertical-align: middle;\n",
       "    }\n",
       "\n",
       "    .dataframe tbody tr th {\n",
       "        vertical-align: top;\n",
       "    }\n",
       "\n",
       "    .dataframe thead th {\n",
       "        text-align: right;\n",
       "    }\n",
       "</style>\n",
       "<table border=\"1\" class=\"dataframe\">\n",
       "  <thead>\n",
       "    <tr style=\"text-align: right;\">\n",
       "      <th></th>\n",
       "      <th>position_end_0</th>\n",
       "      <th>position_end_1</th>\n",
       "      <th>position_end_2</th>\n",
       "    </tr>\n",
       "  </thead>\n",
       "  <tbody>\n",
       "    <tr>\n",
       "      <th>0</th>\n",
       "      <td>19270.18114729</td>\n",
       "      <td>18215.86140969</td>\n",
       "      <td>18693.4114863</td>\n",
       "    </tr>\n",
       "    <tr>\n",
       "      <th>1</th>\n",
       "      <td>19242.18330777</td>\n",
       "      <td>18215.96205085</td>\n",
       "      <td>18719.15239368</td>\n",
       "    </tr>\n",
       "    <tr>\n",
       "      <th>2</th>\n",
       "      <td>19077.31693912</td>\n",
       "      <td>17913.95893244</td>\n",
       "      <td>18719.38958887</td>\n",
       "    </tr>\n",
       "    <tr>\n",
       "      <th>3</th>\n",
       "      <td>19407.18754103</td>\n",
       "      <td>18148.97613687</td>\n",
       "      <td>18658.85413363</td>\n",
       "    </tr>\n",
       "  </tbody>\n",
       "</table>\n",
       "</div>"
      ],
      "text/plain": [
       "   position_end_0  position_end_1  position_end_2\n",
       "0  19270.18114729  18215.86140969   18693.4114863\n",
       "1  19242.18330777  18215.96205085  18719.15239368\n",
       "2  19077.31693912  17913.95893244  18719.38958887\n",
       "3  19407.18754103  18148.97613687  18658.85413363"
      ]
     },
     "execution_count": 18,
     "metadata": {},
     "output_type": "execute_result"
    }
   ],
   "source": [
    "pos_e"
   ]
  },
  {
   "cell_type": "markdown",
   "metadata": {},
   "source": [
    "## Final DataFrame"
   ]
  },
  {
   "cell_type": "code",
   "execution_count": 19,
   "metadata": {},
   "outputs": [],
   "source": [
    "df_final = pd.concat([pos_c, pos_rtp, pos_s, pos_e], axis=1)"
   ]
  },
  {
   "cell_type": "code",
   "execution_count": 20,
   "metadata": {},
   "outputs": [],
   "source": [
    "df_final = df_final.astype('float64')"
   ]
  },
  {
   "cell_type": "code",
   "execution_count": 21,
   "metadata": {},
   "outputs": [
    {
     "data": {
      "text/plain": [
       "position_c_0              float64\n",
       "position_c_1              float64\n",
       "position_c_2              float64\n",
       "position_r_theta_phi_0    float64\n",
       "position_r_theta_phi_1    float64\n",
       "position_r_theta_phi_2    float64\n",
       "position_start_0          float64\n",
       "position_start_1          float64\n",
       "position_start_2          float64\n",
       "position_end_0            float64\n",
       "position_end_1            float64\n",
       "position_end_2            float64\n",
       "dtype: object"
      ]
     },
     "execution_count": 21,
     "metadata": {},
     "output_type": "execute_result"
    }
   ],
   "source": [
    "df_final.dtypes"
   ]
  },
  {
   "cell_type": "code",
   "execution_count": 22,
   "metadata": {},
   "outputs": [
    {
     "data": {
      "text/html": [
       "<div>\n",
       "<style scoped>\n",
       "    .dataframe tbody tr th:only-of-type {\n",
       "        vertical-align: middle;\n",
       "    }\n",
       "\n",
       "    .dataframe tbody tr th {\n",
       "        vertical-align: top;\n",
       "    }\n",
       "\n",
       "    .dataframe thead th {\n",
       "        text-align: right;\n",
       "    }\n",
       "</style>\n",
       "<table border=\"1\" class=\"dataframe\">\n",
       "  <thead>\n",
       "    <tr style=\"text-align: right;\">\n",
       "      <th></th>\n",
       "      <th>position_c_0</th>\n",
       "      <th>position_c_1</th>\n",
       "      <th>position_c_2</th>\n",
       "      <th>position_r_theta_phi_0</th>\n",
       "      <th>position_r_theta_phi_1</th>\n",
       "      <th>position_r_theta_phi_2</th>\n",
       "      <th>position_start_0</th>\n",
       "      <th>position_start_1</th>\n",
       "      <th>position_start_2</th>\n",
       "      <th>position_end_0</th>\n",
       "      <th>position_end_1</th>\n",
       "      <th>position_end_2</th>\n",
       "    </tr>\n",
       "  </thead>\n",
       "  <tbody>\n",
       "    <tr>\n",
       "      <th>0</th>\n",
       "      <td>14.533843</td>\n",
       "      <td>0.032086</td>\n",
       "      <td>56.925412</td>\n",
       "      <td>58.751478</td>\n",
       "      <td>0.249974</td>\n",
       "      <td>0.002208</td>\n",
       "      <td>19271.080556</td>\n",
       "      <td>17808.462402</td>\n",
       "      <td>18693.411486</td>\n",
       "      <td>19270.181147</td>\n",
       "      <td>18215.861410</td>\n",
       "      <td>18693.411486</td>\n",
       "    </tr>\n",
       "    <tr>\n",
       "      <th>1</th>\n",
       "      <td>15.565867</td>\n",
       "      <td>2.276668</td>\n",
       "      <td>82.666319</td>\n",
       "      <td>84.149865</td>\n",
       "      <td>0.188052</td>\n",
       "      <td>0.145231</td>\n",
       "      <td>19301.142445</td>\n",
       "      <td>17812.850925</td>\n",
       "      <td>18719.152394</td>\n",
       "      <td>19242.183308</td>\n",
       "      <td>18215.962051</td>\n",
       "      <td>18719.152394</td>\n",
       "    </tr>\n",
       "    <tr>\n",
       "      <th>2</th>\n",
       "      <td>-5.408797</td>\n",
       "      <td>8.768777</td>\n",
       "      <td>82.903514</td>\n",
       "      <td>83.541243</td>\n",
       "      <td>0.123640</td>\n",
       "      <td>2.123495</td>\n",
       "      <td>19424.059485</td>\n",
       "      <td>18127.838261</td>\n",
       "      <td>18719.389589</td>\n",
       "      <td>19077.316939</td>\n",
       "      <td>17913.958932</td>\n",
       "      <td>18719.389589</td>\n",
       "    </tr>\n",
       "    <tr>\n",
       "      <th>3</th>\n",
       "      <td>5.487614</td>\n",
       "      <td>-5.608870</td>\n",
       "      <td>22.368059</td>\n",
       "      <td>23.704502</td>\n",
       "      <td>0.337393</td>\n",
       "      <td>5.486860</td>\n",
       "      <td>19115.981706</td>\n",
       "      <td>17864.065763</td>\n",
       "      <td>18658.854134</td>\n",
       "      <td>19407.187541</td>\n",
       "      <td>18148.976137</td>\n",
       "      <td>18658.854134</td>\n",
       "    </tr>\n",
       "  </tbody>\n",
       "</table>\n",
       "</div>"
      ],
      "text/plain": [
       "   position_c_0  position_c_1  position_c_2  position_r_theta_phi_0  \\\n",
       "0     14.533843      0.032086     56.925412               58.751478   \n",
       "1     15.565867      2.276668     82.666319               84.149865   \n",
       "2     -5.408797      8.768777     82.903514               83.541243   \n",
       "3      5.487614     -5.608870     22.368059               23.704502   \n",
       "\n",
       "   position_r_theta_phi_1  position_r_theta_phi_2  position_start_0  \\\n",
       "0                0.249974                0.002208      19271.080556   \n",
       "1                0.188052                0.145231      19301.142445   \n",
       "2                0.123640                2.123495      19424.059485   \n",
       "3                0.337393                5.486860      19115.981706   \n",
       "\n",
       "   position_start_1  position_start_2  position_end_0  position_end_1  \\\n",
       "0      17808.462402      18693.411486    19270.181147    18215.861410   \n",
       "1      17812.850925      18719.152394    19242.183308    18215.962051   \n",
       "2      18127.838261      18719.389589    19077.316939    17913.958932   \n",
       "3      17864.065763      18658.854134    19407.187541    18148.976137   \n",
       "\n",
       "   position_end_2  \n",
       "0    18693.411486  \n",
       "1    18719.152394  \n",
       "2    18719.389589  \n",
       "3    18658.854134  "
      ]
     },
     "execution_count": 22,
     "metadata": {},
     "output_type": "execute_result"
    }
   ],
   "source": [
    "df_final"
   ]
  },
  {
   "cell_type": "code",
   "execution_count": null,
   "metadata": {},
   "outputs": [],
   "source": []
  }
 ],
 "metadata": {
  "kernelspec": {
   "display_name": "Python 3",
   "language": "python",
   "name": "python3"
  },
  "language_info": {
   "codemirror_mode": {
    "name": "ipython",
    "version": 3
   },
   "file_extension": ".py",
   "mimetype": "text/x-python",
   "name": "python",
   "nbconvert_exporter": "python",
   "pygments_lexer": "ipython3",
   "version": "3.6.6"
  }
 },
 "nbformat": 4,
 "nbformat_minor": 2
}
