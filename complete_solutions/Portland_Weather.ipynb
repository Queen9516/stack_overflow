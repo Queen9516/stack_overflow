{
 "cells": [
  {
   "cell_type": "markdown",
   "metadata": {},
   "source": [
    "# Weather Visualization for Portland, OR: 1940 - 2020\n",
    "\n",
    "- Notebook Author: [Trenton McKinney][1]\n",
    "- Just for fun\n",
    "\n",
    "  [1]: https://trenton3983.github.io/"
   ]
  },
  {
   "cell_type": "code",
   "execution_count": null,
   "metadata": {},
   "outputs": [],
   "source": [
    "import pandas as pd\n",
    "import matplotlib.pyplot as plt\n",
    "from pathlib import Path\n",
    "import seaborn as sns\n",
    "import numpy as np\n",
    "import calendar\n",
    "from math import floor\n",
    "from datetime import date"
   ]
  },
  {
   "cell_type": "code",
   "execution_count": null,
   "metadata": {},
   "outputs": [],
   "source": [
    "pd.set_option('display.max_columns', 700)\n",
    "pd.set_option('display.max_rows', 100)\n",
    "pd.set_option('display.min_rows', 10)\n",
    "pd.set_option('display.expand_frame_repr', True)"
   ]
  },
  {
   "cell_type": "code",
   "execution_count": null,
   "metadata": {},
   "outputs": [],
   "source": [
    "plt.rcParams['figure.figsize'] = (16.0, 10.0)\n",
    "# plt.style.use('ggplot')\n",
    "# sns.set_style(\"white\")"
   ]
  },
  {
   "cell_type": "markdown",
   "metadata": {},
   "source": [
    "# Load and Clean Data"
   ]
  },
  {
   "cell_type": "markdown",
   "metadata": {},
   "source": [
    "## Load a local copy"
   ]
  },
  {
   "cell_type": "code",
   "execution_count": null,
   "metadata": {},
   "outputs": [],
   "source": [
    "p = Path().cwd().parents[0] / 'data/Portland_dailyclimatedata1940-2019.xlsx'"
   ]
  },
  {
   "cell_type": "code",
   "execution_count": null,
   "metadata": {},
   "outputs": [],
   "source": [
    "pdx_19 = pd.read_excel(p, sheet_name='Portland_dailyclimatedata1940-2', skiprows=list(range(6)))"
   ]
  },
  {
   "cell_type": "markdown",
   "metadata": {},
   "source": [
    "## Load from website"
   ]
  },
  {
   "cell_type": "markdown",
   "metadata": {},
   "source": [
    "- Data from [NOAA Nation Weather Service Forecast Office: Portland, OR][1]\n",
    "\n",
    "  [1]: https://w2.weather.gov/climate/local_data.php?wfo=pqr"
   ]
  },
  {
   "cell_type": "code",
   "execution_count": null,
   "metadata": {},
   "outputs": [],
   "source": [
    "url = 'http://www.weather.gov/source/pqr/climate/webdata/Portland_dailyclimatedata.csv'\n",
    "pdx_19 = pd.read_csv(url, skiprows=list(range(6)))"
   ]
  },
  {
   "cell_type": "markdown",
   "metadata": {},
   "source": [
    "## View initial dataframe"
   ]
  },
  {
   "cell_type": "code",
   "execution_count": null,
   "metadata": {},
   "outputs": [],
   "source": [
    "pdx_19"
   ]
  },
  {
   "cell_type": "markdown",
   "metadata": {},
   "source": [
    "## Transform and clean data"
   ]
  },
  {
   "cell_type": "code",
   "execution_count": null,
   "metadata": {},
   "outputs": [],
   "source": [
    "# Drop unused column\n",
    "pdx_19.drop(columns=['AVG or Total'], inplace=True)"
   ]
  },
  {
   "cell_type": "code",
   "execution_count": null,
   "metadata": {},
   "outputs": [],
   "source": [
    "# add prefix to days for use with wide_to_long\n",
    "pdx_19.columns = list(pdx_19.columns[:3]) + [f'v_{day}' for day in pdx_19.columns[3:]]"
   ]
  },
  {
   "cell_type": "code",
   "execution_count": null,
   "metadata": {},
   "outputs": [],
   "source": [
    "# Select TX (max temp) and TN (min temp)\n",
    "pdx_19.rename(columns={'Unnamed: 2': 'TYPE'}, inplace=True)\n",
    "pdx_19 = pdx_19[pdx_19.TYPE.isin(['TX', 'TN', 'PR'])]"
   ]
  },
  {
   "cell_type": "markdown",
   "metadata": {},
   "source": [
    "### Convert to Tidy format"
   ]
  },
  {
   "cell_type": "code",
   "execution_count": null,
   "metadata": {},
   "outputs": [],
   "source": [
    "# reshape the data to tidy\n",
    "pdx = pd.wide_to_long(pdx_19, stubnames='v', sep='_', i=['YR', 'MO', 'TYPE'], j='day').reset_index()\n",
    "pdx"
   ]
  },
  {
   "cell_type": "code",
   "execution_count": null,
   "metadata": {},
   "outputs": [],
   "source": [
    "# Give a more descriptive name\n",
    "pdx.TYPE = pdx.TYPE.map({'TX': 'MAX', 'TN': 'MIN', 'PR': 'PRE'})"
   ]
  },
  {
   "cell_type": "code",
   "execution_count": null,
   "metadata": {},
   "outputs": [],
   "source": [
    "# rename so they can be used to create a date column\n",
    "pdx.rename(columns={'YR': 'year', 'MO': 'month'}, inplace=True)"
   ]
  },
  {
   "cell_type": "code",
   "execution_count": null,
   "metadata": {},
   "outputs": [],
   "source": [
    "# - denotes days that don't exist for a given month; drop those\n",
    "pdx = pdx[pdx.v != '-'].copy()"
   ]
  },
  {
   "cell_type": "code",
   "execution_count": null,
   "metadata": {},
   "outputs": [],
   "source": [
    "# create date column\n",
    "pdx['date'] = pd.to_datetime(pdx[['year', 'month', 'day']])"
   ]
  },
  {
   "cell_type": "code",
   "execution_count": null,
   "metadata": {},
   "outputs": [],
   "source": [
    "# add decade\n",
    "pdx['dec'] = pdx.year.apply(lambda x: f\"{floor(x/10)*10}'s\")"
   ]
  },
  {
   "cell_type": "code",
   "execution_count": null,
   "metadata": {},
   "outputs": [],
   "source": [
    "pdx.v.replace({'M': np.nan, 'T': np.nan}, inplace=True)"
   ]
  },
  {
   "cell_type": "code",
   "execution_count": null,
   "metadata": {},
   "outputs": [],
   "source": [
    "# convert from str to float\n",
    "pdx.v = pdx.v.astype('float')"
   ]
  },
  {
   "cell_type": "code",
   "execution_count": null,
   "metadata": {},
   "outputs": [],
   "source": [
    "# add bins\n",
    "pdx['range'] = pd.cut(pdx.v, bins=[0, 64, 74, 84, 94, 200], labels=['< 65', '65 - 74', '75 - 84', '85 - 94', '>= 95'])"
   ]
  },
  {
   "cell_type": "code",
   "execution_count": null,
   "metadata": {},
   "outputs": [],
   "source": [
    "display(pdx.head())\n",
    "display(pdx.tail())"
   ]
  },
  {
   "cell_type": "markdown",
   "metadata": {},
   "source": [
    "# Create max temperature dataframe"
   ]
  },
  {
   "cell_type": "code",
   "execution_count": null,
   "metadata": {},
   "outputs": [],
   "source": [
    "pdx_max = pdx[pdx.TYPE == 'MAX'].reset_index(drop=True)\n",
    "pdx_max"
   ]
  },
  {
   "cell_type": "markdown",
   "metadata": {},
   "source": [
    "# Create January to May (inclusive) dataframe"
   ]
  },
  {
   "cell_type": "code",
   "execution_count": null,
   "metadata": {},
   "outputs": [],
   "source": [
    "pdx_max_jan_may = pdx_max[(pdx_max.date.dt.month >= 1) & (pdx_max.date.dt.month < 6)]"
   ]
  },
  {
   "cell_type": "markdown",
   "metadata": {},
   "source": [
    "## Groupby `year` and `range`"
   ]
  },
  {
   "cell_type": "code",
   "execution_count": null,
   "metadata": {},
   "outputs": [],
   "source": [
    "pdx_max_g = pdx_max_jan_may.groupby([pdx_max_jan_may.date.dt.year, 'range'])['v'].agg('count').reset_index(level=0)"
   ]
  },
  {
   "cell_type": "code",
   "execution_count": null,
   "metadata": {},
   "outputs": [],
   "source": [
    "display(pdx_max_g.head())\n",
    "display(pdx_max_g.tail())"
   ]
  },
  {
   "cell_type": "markdown",
   "metadata": {},
   "source": [
    "## Plot the `groupby` dataframe"
   ]
  },
  {
   "cell_type": "code",
   "execution_count": null,
   "metadata": {},
   "outputs": [],
   "source": [
    "years = list(range(1950, 2021, 10))\n",
    "\n",
    "with sns.axes_style(\"darkgrid\"):\n",
    "    for year in years:\n",
    "        plt.figure()\n",
    "        data = pdx_max_g[(pdx_max_g.date >= year - 10) & (pdx_max_g.date < year)]\n",
    "        ax = sns.barplot(x=data.index, y=data.v, hue=data.date)\n",
    "        \n",
    "        plt.annotate('Prepared By: Trenton McKinney', xy=(3, 140.1), xytext=(3, 140.1), fontsize=8)\n",
    "        \n",
    "        for p in ax.patches:\n",
    "            if p.get_height() > 0:\n",
    "                ax.annotate(format(p.get_height(), '.0f'),\n",
    "                            (p.get_x() + p.get_width() / 2., p.get_height()),\n",
    "                            ha = 'center', va = 'center', fontsize=8,\n",
    "                            xytext = (0, 10), textcoords = 'offset points')\n",
    "        \n",
    "        plt.ylim(0, 150)\n",
    "        plt.ylabel('Days')\n",
    "        plt.xlabel('High Temperatures °F')\n",
    "        plt.title(f\"Portland, OR\\nJan - May High Temperature Days: {year-10}'s\")"
   ]
  },
  {
   "cell_type": "markdown",
   "metadata": {},
   "source": [
    "# Create June dataframe"
   ]
  },
  {
   "cell_type": "code",
   "execution_count": null,
   "metadata": {},
   "outputs": [],
   "source": [
    "pdx_max_june = pdx_max[(pdx_max.date.dt.month == 6)]\n",
    "pdx_max_june = pdx_max_june.groupby([pdx_max_june.date.dt.year, 'range'])['v'].agg('count').reset_index(level=0)\n",
    "pdx_max_june"
   ]
  },
  {
   "cell_type": "markdown",
   "metadata": {},
   "source": [
    "## Plot June"
   ]
  },
  {
   "cell_type": "code",
   "execution_count": null,
   "metadata": {},
   "outputs": [],
   "source": [
    "years = list(range(1950, 2021, 10))\n",
    "\n",
    "with sns.axes_style(\"darkgrid\"):\n",
    "    for year in years:\n",
    "        plt.figure()\n",
    "        data = pdx_max_june[(pdx_max_june.date >= year - 10) & (pdx_max_june.date < year)]\n",
    "        ax = sns.barplot(x=data.index, y=data.v, hue=data.date)\n",
    "        \n",
    "        plt.annotate('Prepared By: Trenton McKinney', xy=(0, 24.3), xytext=(0, 24.3), fontsize=8)\n",
    "        \n",
    "        for p in ax.patches:\n",
    "            if p.get_height() > 0:\n",
    "                ax.annotate(format(p.get_height(), '.0f'),\n",
    "                            (p.get_x() + p.get_width() / 2., p.get_height()),\n",
    "                            ha='center', va='center', fontsize=9,\n",
    "                            xytext=(0, 10), textcoords='offset points')\n",
    "        \n",
    "        plt.ylim(0, 25)\n",
    "        plt.ylabel('Days')\n",
    "        plt.xlabel('High Temperatures °F')\n",
    "        plt.title(f\"Portland, OR\\nJune High Temperature Days: {year-10}'s\")"
   ]
  },
  {
   "cell_type": "markdown",
   "metadata": {},
   "source": [
    "# Resample max monthly mean"
   ]
  },
  {
   "cell_type": "code",
   "execution_count": null,
   "metadata": {},
   "outputs": [],
   "source": [
    "pdx_m_mean = pdx_max.set_index('date').resample('m').mean()"
   ]
  },
  {
   "cell_type": "code",
   "execution_count": null,
   "metadata": {},
   "outputs": [],
   "source": [
    "years = list(range(1950, 2021, 10))\n",
    "\n",
    "with sns.axes_style(\"darkgrid\"):\n",
    "    for year in years:\n",
    "        data = pdx_m_mean[(pdx_m_mean.index.year >= year - 10) & (pdx_m_mean.index.year < year)]\n",
    "        ax = sns.lineplot(x=data.index, y=data.v)\n",
    "    \n",
    "    plt.annotate('Prepared By: Trenton McKinney', xy=(730120, 32), xytext=(730120, 32), fontsize=10)\n",
    "    plt.xlabel('Year')\n",
    "    plt.ylabel('Monthly Mean Max Temperature °F')\n",
    "    plt.title(f\"Portland, OR\\nResampled Monthly Mean High Temperature\")"
   ]
  },
  {
   "cell_type": "markdown",
   "metadata": {},
   "source": [
    "# Mean: Resample max yearly"
   ]
  },
  {
   "cell_type": "code",
   "execution_count": null,
   "metadata": {},
   "outputs": [],
   "source": [
    "pdx_y_mean = pdx_max[pdx_max.year > 1940].set_index('date').resample('y').mean()\n",
    "# filtered out 1940 because it's a partial year (only 2 months)"
   ]
  },
  {
   "cell_type": "code",
   "execution_count": null,
   "metadata": {},
   "outputs": [],
   "source": [
    "years = list(range(1950, 2021, 10))\n",
    "\n",
    "with sns.axes_style(\"darkgrid\"):\n",
    "    for year in years:\n",
    "        data = pdx_y_mean[(pdx_y_mean.index.year >= year - 10) & (pdx_y_mean.index.year < year)]\n",
    "        ax = sns.lineplot(x=data.index, y=data.v)\n",
    "\n",
    "    plt.annotate('Prepared By: Trenton McKinney', xy=(730120, 58.7), xytext=(730120, 58.7), fontsize=9)\n",
    "    plt.xlabel('Year')\n",
    "    plt.ylabel('Yearly Mean Max Temperature °F')\n",
    "    plt.title(f\"Portland, OR\\nResampled Yearly Mean High Temperature\")"
   ]
  },
  {
   "cell_type": "markdown",
   "metadata": {},
   "source": [
    "# Mean: Groupby year & month"
   ]
  },
  {
   "cell_type": "code",
   "execution_count": null,
   "metadata": {},
   "outputs": [],
   "source": [
    "mym = pdx_max.groupby([pdx_max.date.dt.year, pdx_max.date.dt.month])['v'].mean().unstack(level=0)\n",
    "mym = mym.iloc[:, :-1]  # there's no data in 2020 so drop that column\n",
    "mym.iloc[:, :5]"
   ]
  },
  {
   "cell_type": "code",
   "execution_count": null,
   "metadata": {},
   "outputs": [],
   "source": [
    "ix = list(range(0, len(mym.columns), 10))\n",
    "\n",
    "with sns.axes_style(\"darkgrid\"):\n",
    "    for i in ix:\n",
    "        plt.figure()\n",
    "        data = mym.iloc[:, i:i+10]\n",
    "        sns.lineplot(data=data, markers=None, dashes=False)\n",
    "        plt.annotate('Prepared By: Trenton McKinney', xy=(10, 31), xytext=(10, 31), fontsize=10)\n",
    "\n",
    "        plt.xticks(np.arange(1, 13), calendar.month_name[1:13])\n",
    "        plt.ylim(30, 100)\n",
    "        plt.xlabel('Month')\n",
    "        plt.ylabel('Mean Max Temperature °F')\n",
    "        plt.title(f\"Portland, OR\\nMonthly Mean per Year High Temperature\")\n",
    "        plt.show()"
   ]
  },
  {
   "cell_type": "markdown",
   "metadata": {},
   "source": [
    "# Mean: Groupby decade & month"
   ]
  },
  {
   "cell_type": "code",
   "execution_count": null,
   "metadata": {},
   "outputs": [],
   "source": [
    "mymd = pdx_max.groupby([pdx_max.dec, pdx_max.date.dt.month])['v'].mean().unstack(level=0)\n",
    "mymd = mymd.iloc[:, :-1]  # No data for 2020's\n",
    "mymd"
   ]
  },
  {
   "cell_type": "code",
   "execution_count": null,
   "metadata": {},
   "outputs": [],
   "source": [
    "with sns.axes_style(\"darkgrid\"):\n",
    "\n",
    "    plt.figure()\n",
    "    sns.lineplot(data=mymd, markers=None, dashes=False)\n",
    "    plt.annotate('Prepared By: Trenton McKinney', xy=(10, 40.5), xytext=(10, 40.5), fontsize=10)\n",
    "    plt.xticks(np.arange(1, 13), calendar.month_name[1:13])\n",
    "    plt.ylim(40, 85)\n",
    "    plt.xlabel('Month')\n",
    "    plt.ylabel('Mean Max Temperature °F')\n",
    "    plt.title(f\"Portland, OR\\nMonthly Mean Per Decade High Temperature\")\n",
    "    plt.show()"
   ]
  },
  {
   "cell_type": "markdown",
   "metadata": {},
   "source": [
    "# 2020 Data"
   ]
  },
  {
   "cell_type": "code",
   "execution_count": null,
   "metadata": {},
   "outputs": [],
   "source": [
    "p = Path().cwd().parents[0] / 'data/Portland_dailyclimatedata1940-2019.xlsx'\n",
    "pdx_20 = pd.read_excel(p, sheet_name='2020')"
   ]
  },
  {
   "cell_type": "markdown",
   "metadata": {},
   "source": [
    "## Transform and clean data"
   ]
  },
  {
   "cell_type": "code",
   "execution_count": null,
   "metadata": {},
   "outputs": [],
   "source": [
    "# drop not used columns\n",
    "pdx_20.drop(columns=['Departure', 'HDD', 'CDD', 'New_Snow', 'Snow_Depth'], inplace=True)"
   ]
  },
  {
   "cell_type": "code",
   "execution_count": null,
   "metadata": {},
   "outputs": [],
   "source": [
    "# change name to facilitate wide_to_long\n",
    "pdx_20.rename(columns={'Date': 'date', 'MAX': 'v1', 'MIN': 'v2', 'AVG': 'v3', 'Precip': 'v4'}, inplace=True)"
   ]
  },
  {
   "cell_type": "code",
   "execution_count": null,
   "metadata": {},
   "outputs": [],
   "source": [
    "# add bins\n",
    "pdx_20['w1'] = pd.cut(pdx_20.v1, bins=[0, 64, 74, 84, 94, 200], labels=['< 65', '65 - 74', '75 - 84', '85 - 94', '>= 95'])"
   ]
  },
  {
   "cell_type": "code",
   "execution_count": null,
   "metadata": {},
   "outputs": [],
   "source": [
    "pdx_20"
   ]
  },
  {
   "cell_type": "markdown",
   "metadata": {},
   "source": [
    "### Convert to Tidy format"
   ]
  },
  {
   "cell_type": "code",
   "execution_count": null,
   "metadata": {},
   "outputs": [],
   "source": [
    "pdx_20_l = pd.wide_to_long(pdx_20, stubnames=['v', 'w'], i=['date'], j='TYPE').reset_index()\n",
    "pdx_20_l"
   ]
  },
  {
   "cell_type": "code",
   "execution_count": null,
   "metadata": {},
   "outputs": [],
   "source": [
    "pdx_20_l.TYPE = pdx_20_l.TYPE.map({1: 'MAX', 2: 'MIN', 3: 'AVG', 4: 'PRE'})"
   ]
  },
  {
   "cell_type": "code",
   "execution_count": null,
   "metadata": {},
   "outputs": [],
   "source": [
    "pdx_20_l['year'] = pdx_20_l.date.dt.year\n",
    "pdx_20_l['month'] = pdx_20_l.date.dt.month\n",
    "pdx_20_l['day'] = pdx_20_l.date.dt.day"
   ]
  },
  {
   "cell_type": "code",
   "execution_count": null,
   "metadata": {},
   "outputs": [],
   "source": [
    "pdx_20_l.rename(columns={'w': 'range'}, inplace=True)"
   ]
  },
  {
   "cell_type": "code",
   "execution_count": null,
   "metadata": {},
   "outputs": [],
   "source": [
    "pdx_20_l.v.replace({'M': np.nan, 'T': np.nan}, inplace=True)"
   ]
  },
  {
   "cell_type": "code",
   "execution_count": null,
   "metadata": {},
   "outputs": [],
   "source": [
    "# add decade\n",
    "pdx_20_l['dec'] = pdx_20_l.year.apply(lambda x: f\"{floor(x/10)*10}'s\")"
   ]
  },
  {
   "cell_type": "code",
   "execution_count": null,
   "metadata": {},
   "outputs": [],
   "source": [
    "# MAX temp data only\n",
    "pdx_20_lm = pdx_20_l[pdx_20_l.TYPE == 'MAX']\n",
    "pdx_20_lm"
   ]
  },
  {
   "cell_type": "code",
   "execution_count": null,
   "metadata": {},
   "outputs": [],
   "source": [
    "# groupby year & range, then count\n",
    "pdx_20_lmg = pdx_20_lm.groupby([pdx_20_lm.date.dt.year, 'range'])['v'].agg('count').sort_values(ascending=False).reset_index(level=0)"
   ]
  },
  {
   "cell_type": "code",
   "execution_count": null,
   "metadata": {},
   "outputs": [],
   "source": [
    "display(pdx_20_lmg.head())\n",
    "display(pdx_20_lmg.tail())"
   ]
  },
  {
   "cell_type": "markdown",
   "metadata": {},
   "source": [
    "## Plot 2020 & 2019 High Temperature Days"
   ]
  },
  {
   "cell_type": "code",
   "execution_count": null,
   "metadata": {},
   "outputs": [],
   "source": [
    "pdx_max_g_2019 = pdx_max_g[pdx_max_g.date == 2019]\n",
    "data = pdx_max_g_2019.append(pdx_20_lmg)\n",
    "\n",
    "with sns.axes_style(\"darkgrid\"):\n",
    "    ax = sns.barplot(x=data.index, y=data.v, hue=data.date)\n",
    "\n",
    "    plt.annotate('Prepared By: Trenton McKinney', xy=(3, 140.1), xytext=(3, 140.1), fontsize=8)\n",
    "\n",
    "    for p in ax.patches:\n",
    "        if p.get_height() > 0:\n",
    "            ax.annotate(format(p.get_height(), '.0f'),\n",
    "                        (p.get_x() + p.get_width() / 2., p.get_height()),\n",
    "                        ha = 'center', va = 'center', fontsize=8,\n",
    "                        xytext = (0, 10), textcoords = 'offset points')\n",
    "            \n",
    "    plt.ylim(0, 150)\n",
    "    plt.ylabel('Days')\n",
    "    plt.xlabel('High Temperatures °F')\n",
    "    plt.title(f\"Portland, OR\\n 2020: Jan - May 24\\n2019: Jan - May (all)\\nHigh Temperature Days\")"
   ]
  },
  {
   "cell_type": "markdown",
   "metadata": {},
   "source": [
    "# Precipitation"
   ]
  },
  {
   "cell_type": "markdown",
   "metadata": {},
   "source": [
    "## 2020"
   ]
  },
  {
   "cell_type": "code",
   "execution_count": null,
   "metadata": {},
   "outputs": [],
   "source": [
    "# PRE: precipitation data only\n",
    "pdx_20_lp = pdx_20_l[(pdx_20_l.TYPE == 'PRE')]\n",
    "pdx_20_lp.head()"
   ]
  },
  {
   "cell_type": "code",
   "execution_count": null,
   "metadata": {},
   "outputs": [],
   "source": [
    "plt.figure(figsize=(25, 10))\n",
    "with sns.axes_style(\"darkgrid\"):\n",
    "\n",
    "    sns.barplot(pdx_20_lp.date, pdx_20_lp.v)\n",
    "\n",
    "    plt.annotate('Prepared By: Trenton McKinney', xy=(120, 0.9), xytext=(120, 0.9), fontsize=8)\n",
    "    ticks, labels = plt.xticks(rotation=90)\n",
    "    labels = [label.get_text()[:10] for label in labels]\n",
    "    plt.xticks(ticks=ticks, labels=labels)\n",
    "    \n",
    "    plt.ylabel('Precipitation (inches)')\n",
    "    plt.xlabel('Date')\n",
    "    plt.title(f\"Portland, OR\\n 2020: Jan - May 24\\nPrecipitation Days\")"
   ]
  },
  {
   "cell_type": "code",
   "execution_count": null,
   "metadata": {},
   "outputs": [],
   "source": [
    "with sns.axes_style(\"darkgrid\"):\n",
    "\n",
    "    sns.boxplot(pdx_20_lp.date.dt.month, pdx_20_lp.v)\n",
    "    \n",
    "    plt.xticks(np.arange(0, 5), calendar.month_name[1:6])\n",
    "\n",
    "    plt.annotate('Prepared By: Trenton McKinney', xy=(3, 0.9), xytext=(3, 0.9), fontsize=8)\n",
    "    \n",
    "    plt.ylabel('Precipitation (inches)')\n",
    "    plt.xlabel('Month')\n",
    "    plt.title(f\"Portland, OR\\n 2020: Jan - May 24\\nPrecipitation\")"
   ]
  },
  {
   "cell_type": "markdown",
   "metadata": {},
   "source": [
    "## 1940 - 2020"
   ]
  },
  {
   "cell_type": "code",
   "execution_count": null,
   "metadata": {},
   "outputs": [],
   "source": [
    "pdx_precip = pdx[(pdx.TYPE == 'PRE')].append(pdx_20_lp).reset_index(drop=True)"
   ]
  },
  {
   "cell_type": "code",
   "execution_count": null,
   "metadata": {},
   "outputs": [],
   "source": [
    "pdx_precip.drop(columns=['range'], inplace=True)"
   ]
  },
  {
   "cell_type": "code",
   "execution_count": null,
   "metadata": {},
   "outputs": [],
   "source": [
    "pdx_precip"
   ]
  },
  {
   "cell_type": "markdown",
   "metadata": {},
   "source": [
    "### Mean Monthly Precipitation per Decade: 2940 - 2020"
   ]
  },
  {
   "cell_type": "code",
   "execution_count": null,
   "metadata": {},
   "outputs": [],
   "source": [
    "pmymd = pdx_precip.groupby([pdx_precip.dec, pdx_precip.date.dt.month])['v'].mean().unstack(level=0)\n",
    "pmymd"
   ]
  },
  {
   "cell_type": "code",
   "execution_count": null,
   "metadata": {},
   "outputs": [],
   "source": [
    "with sns.axes_style(\"darkgrid\"):\n",
    "\n",
    "    plt.figure()\n",
    "    sns.lineplot(data=pmymd, markers=None, dashes=False)\n",
    "    plt.annotate('Prepared By: Trenton McKinney', xy=(10, 0.06), xytext=(10, 0.06), fontsize=10)\n",
    "    plt.xticks(np.arange(1, 13), calendar.month_name[1:13])\n",
    "\n",
    "    plt.xlabel('Month')\n",
    "    plt.ylabel('Mean Precipitation (inches)')\n",
    "    plt.title(f\"Portland, OR\\nMonthly Mean Amount of Precipitation by Decade\")\n",
    "    plt.show()"
   ]
  },
  {
   "cell_type": "code",
   "execution_count": null,
   "metadata": {},
   "outputs": [],
   "source": [
    "pmymds = pmymd.stack().reset_index()\n",
    "\n",
    "with sns.axes_style(\"darkgrid\"):\n",
    "\n",
    "    plt.figure(figsize=(20, 10))\n",
    "    ax = sns.barplot('date', 0, data=pmymds, hue='dec')\n",
    "\n",
    "    for p in ax.patches:\n",
    "        if p.get_height() > 0:\n",
    "            ax.annotate(format(p.get_height(), '.2f'),\n",
    "                        (p.get_x() + p.get_width() / 2., p.get_height()),\n",
    "                        ha='center', va='center', fontsize=9, rotation=90,\n",
    "                        xytext=(0, 10), textcoords='offset points')\n",
    "    \n",
    "    plt.legend(loc='center left', bbox_to_anchor=(1, 0.5))\n",
    "    plt.annotate('Prepared By: Trenton McKinney', xy=(9, 0.351), xytext=(9, 0.351), fontsize=10)\n",
    "    plt.xticks(np.arange(0, 12), calendar.month_name[1:13])\n",
    "    plt.xlabel('Month')\n",
    "    plt.ylabel('Mean Precipitation (inches)')\n",
    "    plt.title(f\"Portland, OR\\nMonthly Mean Amount of Precipitation by Decade\")\n",
    "    plt.show()"
   ]
  },
  {
   "cell_type": "markdown",
   "metadata": {},
   "source": [
    "- **Note the 2020's are only made up of 4.5 months of data**\n",
    "- Other decades are the mean m over 10 years."
   ]
  },
  {
   "cell_type": "markdown",
   "metadata": {},
   "source": [
    "### Total Precipitation Days: 1940 - 2020"
   ]
  },
  {
   "cell_type": "code",
   "execution_count": null,
   "metadata": {},
   "outputs": [],
   "source": [
    "precip_days_year = pdx_precip[pdx_precip.v > 0].groupby('year', as_index=False)['year'].agg({'count': 'count'})\n",
    "\n",
    "with sns.axes_style(\"darkgrid\"):\n",
    "    ax = sns.barplot(x='year', y='count', data=precip_days_year)\n",
    "    plt.xticks(rotation=90)\n",
    "\n",
    "    # plt.annotate('Prepared By: Trenton McKinney', xy=(3, 140.1), xytext=(3, 140.1), fontsize=8)\n",
    "\n",
    "    for p in ax.patches:\n",
    "        if p.get_height() > 0:\n",
    "            ax.annotate(format(p.get_height(), '.0f'),\n",
    "                        (p.get_x() + p.get_width() / 2., p.get_height()),\n",
    "                        ha = 'center', va = 'center', fontsize=9, rotation=90,\n",
    "                        xytext = (0, 10), textcoords = 'offset points')\n",
    "\n",
    "    plt.ylabel('Days of Precipitation')\n",
    "    plt.xlabel('Year')\n",
    "    plt.title(f\"Portland, OR\\nPrecipitation Days Per Year\")\n",
    "\n",
    "    plt.show()"
   ]
  },
  {
   "cell_type": "markdown",
   "metadata": {},
   "source": [
    "- **1940 and 2020 do not have complete data for the year**"
   ]
  },
  {
   "cell_type": "markdown",
   "metadata": {},
   "source": [
    "### Mean Monthly Precipitation: 1940 - 2020"
   ]
  },
  {
   "cell_type": "code",
   "execution_count": null,
   "metadata": {},
   "outputs": [],
   "source": [
    "precip_days_month = pdx_precip.groupby('month', as_index=False)['v'].agg({'mean': 'mean'})\n",
    "ax = sns.barplot(x='month', y='mean', data=precip_days_month)\n",
    "plt.xticks(rotation=90)\n",
    "\n",
    "# plt.annotate('Prepared By: Trenton McKinney', xy=(3, 140.1), xytext=(3, 140.1), fontsize=8)\n",
    "plt.xticks(np.arange(0, 12), calendar.month_name[1:13])\n",
    "\n",
    "for p in ax.patches:\n",
    "    if p.get_height() > 0:\n",
    "        ax.annotate(format(p.get_height(), '.2f'),\n",
    "                    (p.get_x() + p.get_width() / 2., p.get_height()),\n",
    "                    ha = 'center', va = 'center', fontsize=8,\n",
    "                    xytext = (0, 10), textcoords = 'offset points')\n",
    "\n",
    "plt.ylabel('Mean Precipitation (inches)')\n",
    "plt.xlabel('Month')\n",
    "plt.title(f\"Portland, OR\\nMean Precipitation Per Month: 1940 - 2020\")\n",
    "\n",
    "plt.show()"
   ]
  },
  {
   "cell_type": "markdown",
   "metadata": {},
   "source": [
    "### Total Jan - May Precipitation: 2018 - 2020"
   ]
  },
  {
   "cell_type": "code",
   "execution_count": null,
   "metadata": {},
   "outputs": [],
   "source": [
    "gb_18_20 = pdx_precip[(pdx_precip.year.isin([2018, 2019, 2020])) & (pdx_precip.month < 6)].groupby(['year', 'month']).agg({'v': sum}).reset_index()"
   ]
  },
  {
   "cell_type": "code",
   "execution_count": null,
   "metadata": {},
   "outputs": [],
   "source": [
    "ax = sns.barplot(x=gb_18_20.month, y=gb_18_20.v, hue=gb_18_20.year)\n",
    "plt.xticks(np.arange(0, 5), calendar.month_name[1:6])\n",
    "\n",
    "for p in ax.patches:\n",
    "    if p.get_height() > 0:\n",
    "        ax.annotate(format(p.get_height(), '.2f'),\n",
    "                    (p.get_x() + p.get_width() / 2., p.get_height()),\n",
    "                    ha = 'center', va = 'center', fontsize=8,\n",
    "                    xytext = (0, 10), textcoords = 'offset points')\n",
    "\n",
    "plt.ylabel('Total Precipitation (inches)')\n",
    "plt.xlabel('Month')\n",
    "plt.title(f\"Portland, OR\\nTotal Monthly Precipitation\\n(Jan - May): 2018 - 2020\")\n",
    "plt.show()"
   ]
  },
  {
   "cell_type": "markdown",
   "metadata": {},
   "source": [
    "### Monthly Total Precipitation"
   ]
  },
  {
   "cell_type": "code",
   "execution_count": null,
   "metadata": {},
   "outputs": [],
   "source": [
    "years = list(range(1950, 2031, 10))\n",
    "\n",
    "with sns.axes_style(\"darkgrid\"):\n",
    "    for year in years:\n",
    "        plt.figure()\n",
    "        data = pdx_precip[(pdx_precip.year >= year - 10) & (pdx_precip.year < year)]\n",
    "        data = data.groupby(['year', 'month']).agg({'v': sum}).reset_index()\n",
    "        ax = sns.barplot(x=data.month, y=data.v, hue=data.year)\n",
    "        \n",
    "#         plt.annotate('Prepared By: Trenton McKinney', xy=(3, 140.1), xytext=(3, 140.1), fontsize=8)\n",
    "        \n",
    "        for p in ax.patches:\n",
    "            if p.get_height() > 0:\n",
    "                ax.annotate(format(p.get_height(), '.2f'),\n",
    "                            (p.get_x() + p.get_width() / 2., p.get_height() + 0.2),\n",
    "                            ha = 'center', va = 'center', fontsize=9, rotation=90,\n",
    "                            xytext = (0, 10), textcoords = 'offset points')\n",
    "\n",
    "        plt.xticks(np.arange(0, 12), calendar.month_name[1:13])\n",
    "        plt.ylim(0, 16)\n",
    "        plt.legend(loc='center left', bbox_to_anchor=(1, 0.5))\n",
    "        plt.ylabel('Total Rain (inches)')\n",
    "        plt.xlabel('Month')\n",
    "        plt.title(f\"Portland, OR\\nTotal Rain Per Month: {year-10}'s\")"
   ]
  },
  {
   "cell_type": "markdown",
   "metadata": {},
   "source": [
    "## 2011 - 2020"
   ]
  },
  {
   "cell_type": "code",
   "execution_count": null,
   "metadata": {},
   "outputs": [],
   "source": [
    "pdx_precip_11_00 = pdx_precip[(pdx_precip.year > 2010)]\n",
    "pdx_precip_11_00"
   ]
  },
  {
   "cell_type": "code",
   "execution_count": null,
   "metadata": {},
   "outputs": [],
   "source": [
    "with sns.axes_style(\"darkgrid\"):\n",
    "\n",
    "    sns.boxplot(pdx_precip_11_00.date.dt.year, pdx_precip_11_00.v, color='lightgray')\n",
    "    sns.swarmplot(pdx_precip_11_00.date.dt.year, pdx_precip_11_00.v, size=2.5)\n",
    "    \n",
    "    plt.annotate('Prepared By: Trenton McKinney', xy=(7, 2.51), xytext=(7, 2.51), fontsize=8)\n",
    "    \n",
    "    plt.ylabel('Precipitation (inches)')\n",
    "    plt.xlabel('Year')\n",
    "    plt.title(f\"Portland, OR\\n 2011 - 2020 Amount of Precipitation\")"
   ]
  },
  {
   "cell_type": "code",
   "execution_count": null,
   "metadata": {},
   "outputs": [],
   "source": []
  }
 ],
 "metadata": {
  "kernelspec": {
   "display_name": "Python 3",
   "language": "python",
   "name": "python3"
  },
  "language_info": {
   "codemirror_mode": {
    "name": "ipython",
    "version": 3
   },
   "file_extension": ".py",
   "mimetype": "text/x-python",
   "name": "python",
   "nbconvert_exporter": "python",
   "pygments_lexer": "ipython3",
   "version": "3.7.7"
  }
 },
 "nbformat": 4,
 "nbformat_minor": 4
}
