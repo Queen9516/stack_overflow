{
 "cells": [
  {
   "cell_type": "code",
   "execution_count": null,
   "metadata": {},
   "outputs": [],
   "source": [
    "import pandas as pd\n",
    "import matplotlib.pyplot as plt\n",
    "from pathlib import Path\n",
    "import seaborn as sns\n",
    "import numpy as np"
   ]
  },
  {
   "cell_type": "code",
   "execution_count": null,
   "metadata": {},
   "outputs": [],
   "source": [
    "pd.set_option('display.max_columns', 700)\n",
    "pd.set_option('display.max_rows', 100)\n",
    "pd.set_option('display.min_rows', 10)\n",
    "pd.set_option('display.expand_frame_repr', True)"
   ]
  },
  {
   "cell_type": "code",
   "execution_count": null,
   "metadata": {},
   "outputs": [],
   "source": [
    "plt.rcParams['figure.figsize'] = (16.0, 10.0)\n",
    "# plt.style.use('ggplot')\n",
    "# sns.set_style(\"white\")"
   ]
  },
  {
   "cell_type": "markdown",
   "metadata": {},
   "source": [
    "# Load and Clean Data"
   ]
  },
  {
   "cell_type": "code",
   "execution_count": null,
   "metadata": {},
   "outputs": [],
   "source": [
    "# local use\n",
    "p = Path('data/Portland_dailyclimatedata1940-2019.xlsx')\n",
    "pdx_19 = pd.read_excel(p, sheet_name='Portland_dailyclimatedata1940-2')"
   ]
  },
  {
   "cell_type": "markdown",
   "metadata": {},
   "source": [
    "- Data from [NOAA Nation Weather Service Forecast Office: Portland, OR][1]\n",
    "\n",
    "  [1]: https://w2.weather.gov/climate/local_data.php?wfo=pqr"
   ]
  },
  {
   "cell_type": "code",
   "execution_count": null,
   "metadata": {},
   "outputs": [],
   "source": [
    "url = 'http://www.weather.gov/source/pqr/climate/webdata/Portland_dailyclimatedata.csv'"
   ]
  },
  {
   "cell_type": "code",
   "execution_count": null,
   "metadata": {},
   "outputs": [],
   "source": [
    "pdx_19 = pd.read_csv(url, skiprows=list(range(6)))\n",
    "pdx_19"
   ]
  },
  {
   "cell_type": "code",
   "execution_count": null,
   "metadata": {},
   "outputs": [],
   "source": [
    "pdx_19.drop(columns=['AVG or Total'], inplace=True)"
   ]
  },
  {
   "cell_type": "code",
   "execution_count": null,
   "metadata": {},
   "outputs": [],
   "source": [
    "# add prefix to days for use with wide_to_long\n",
    "pdx_19.columns = list(pdx_19.columns[:3]) + [f'v_{day}' for day in pdx_19.columns[3:]]"
   ]
  },
  {
   "cell_type": "code",
   "execution_count": null,
   "metadata": {},
   "outputs": [],
   "source": [
    "# Select TX (max temp) and TN (min temp)\n",
    "pdx_19.rename(columns={'Unnamed: 2': 'TYPE'}, inplace=True)\n",
    "pdx_19 = pdx_19[pdx_19.TYPE.isin(['TX', 'TN'])]"
   ]
  },
  {
   "cell_type": "code",
   "execution_count": null,
   "metadata": {},
   "outputs": [],
   "source": [
    "# reshape the data to tidy\n",
    "pdx = pd.wide_to_long(pdx_19, stubnames='v', sep='_', i=['YR', 'MO', 'TYPE'], j='day').reset_index()\n",
    "pdx"
   ]
  },
  {
   "cell_type": "code",
   "execution_count": null,
   "metadata": {},
   "outputs": [],
   "source": [
    "# Give a more descriptive name\n",
    "pdx.TYPE = pdx.TYPE.map({'TX': 'MAX', 'TN': 'MIN'})"
   ]
  },
  {
   "cell_type": "code",
   "execution_count": null,
   "metadata": {},
   "outputs": [],
   "source": [
    "# - denote days that don't exist for a given month; drop those\n",
    "pdx = pdx[pdx.v != '-'].copy()"
   ]
  },
  {
   "cell_type": "code",
   "execution_count": null,
   "metadata": {},
   "outputs": [],
   "source": [
    "# rename so they can be used to create a date column\n",
    "pdx.rename(columns={'YR': 'year', 'MO': 'month'}, inplace=True)"
   ]
  },
  {
   "cell_type": "code",
   "execution_count": null,
   "metadata": {},
   "outputs": [],
   "source": [
    "# create date column\n",
    "pdx['date'] = pd.to_datetime(pdx[['year', 'month', 'day']])"
   ]
  },
  {
   "cell_type": "code",
   "execution_count": null,
   "metadata": {},
   "outputs": [],
   "source": [
    "# no longer needed\n",
    "pdx.drop(columns=['year', 'month', 'day'], inplace=True)"
   ]
  },
  {
   "cell_type": "code",
   "execution_count": null,
   "metadata": {},
   "outputs": [],
   "source": [
    "pdx.v.replace({'M': np.nan, 'T': np.nan}, inplace=True)"
   ]
  },
  {
   "cell_type": "code",
   "execution_count": null,
   "metadata": {},
   "outputs": [],
   "source": [
    "# convert from str to float\n",
    "pdx.v = pdx.v.astype('float')"
   ]
  },
  {
   "cell_type": "code",
   "execution_count": null,
   "metadata": {},
   "outputs": [],
   "source": [
    "# add bins\n",
    "pdx['range'] = pd.cut(pdx.v, bins=[0, 64, 74, 84, 94, 200], labels=['< 65', '65 - 74', '75 - 84', '85 - 94', '>= 95'])"
   ]
  },
  {
   "cell_type": "code",
   "execution_count": null,
   "metadata": {},
   "outputs": [],
   "source": [
    "display(pdx.head())\n",
    "display(pdx.tail())"
   ]
  },
  {
   "cell_type": "markdown",
   "metadata": {},
   "source": [
    "# Create max temperature dataframe"
   ]
  },
  {
   "cell_type": "code",
   "execution_count": null,
   "metadata": {},
   "outputs": [],
   "source": [
    "pdx_max = pdx[pdx.TYPE == 'MAX'].reset_index(drop=True)\n",
    "pdx_max"
   ]
  },
  {
   "cell_type": "markdown",
   "metadata": {},
   "source": [
    "# Create January to May (inclusive) dataframe"
   ]
  },
  {
   "cell_type": "code",
   "execution_count": null,
   "metadata": {},
   "outputs": [],
   "source": [
    "pdx_max_jan_may = pdx_max[(pdx_max.date.dt.month >= 1) & (pdx_max.date.dt.month < 6)]"
   ]
  },
  {
   "cell_type": "markdown",
   "metadata": {},
   "source": [
    "## Groupby `year` and `range`"
   ]
  },
  {
   "cell_type": "code",
   "execution_count": null,
   "metadata": {},
   "outputs": [],
   "source": [
    "pdx_max_g = pdx_max_jan_may.groupby([pdx_max_jan_may.date.dt.year, 'range'])['v'].agg('count').reset_index(level=0)"
   ]
  },
  {
   "cell_type": "code",
   "execution_count": null,
   "metadata": {},
   "outputs": [],
   "source": [
    "display(pdx_max_g.head())\n",
    "display(pdx_max_g.tail())"
   ]
  },
  {
   "cell_type": "markdown",
   "metadata": {},
   "source": [
    "## Plot the `groupby` dataframe"
   ]
  },
  {
   "cell_type": "code",
   "execution_count": null,
   "metadata": {},
   "outputs": [],
   "source": [
    "years = list(range(1950, 2021, 10))\n",
    "\n",
    "with sns.axes_style(\"darkgrid\"):\n",
    "    for year in years:\n",
    "        plt.figure()\n",
    "        data = pdx_max_g[(pdx_max_g.date >= year - 10) & (pdx_max_g.date < year)]\n",
    "        ax = sns.barplot(x=data.index, y=data.v, hue=data.date)\n",
    "        \n",
    "        for p in ax.patches:\n",
    "            if p.get_height() > 0:\n",
    "                ax.annotate(format(p.get_height(), '.0f'), (p.get_x() + p.get_width() / 2., p.get_height()), ha = 'center', va = 'center', xytext = (0, 10), textcoords = 'offset points')\n",
    "        \n",
    "        plt.ylim(0, 150)\n",
    "        plt.ylabel('Days')\n",
    "        plt.xlabel('High Temperatures °F')\n",
    "        plt.title(f\"Portland, OR\\nJan - May High Temperature Days: {year-10}'s\")"
   ]
  },
  {
   "cell_type": "markdown",
   "metadata": {},
   "source": [
    "# Create June dataframe"
   ]
  },
  {
   "cell_type": "code",
   "execution_count": null,
   "metadata": {},
   "outputs": [],
   "source": [
    "pdx_max_june = pdx_max[(pdx_max.date.dt.month == 6)]\n",
    "pdx_max_june = pdx_max_june.groupby([pdx_max_june.date.dt.year, 'range'])['v'].agg('count').reset_index(level=0)\n",
    "pdx_max_june"
   ]
  },
  {
   "cell_type": "markdown",
   "metadata": {},
   "source": [
    "## Plot June"
   ]
  },
  {
   "cell_type": "code",
   "execution_count": null,
   "metadata": {},
   "outputs": [],
   "source": [
    "years = list(range(1950, 2021, 10))\n",
    "\n",
    "with sns.axes_style(\"darkgrid\"):\n",
    "    for year in years:\n",
    "        plt.figure()\n",
    "        data = pdx_max_june[(pdx_max_june.date >= year - 10) & (pdx_max_june.date < year)]\n",
    "        ax = sns.barplot(x=data.index, y=data.v, hue=data.date)\n",
    "        \n",
    "        for p in ax.patches:\n",
    "            if p.get_height() > 0:\n",
    "                ax.annotate(format(p.get_height(), '.0f'), (p.get_x() + p.get_width() / 2., p.get_height()), ha = 'center', va = 'center', xytext = (0, 10), textcoords = 'offset points')\n",
    "        \n",
    "        plt.ylim(0, 25)\n",
    "        plt.ylabel('Days')\n",
    "        plt.xlabel('High Temperatures °F')\n",
    "        plt.title(f\"Portland, OR\\nJune High Temperature Days: {year-10}'s\")"
   ]
  },
  {
   "cell_type": "code",
   "execution_count": null,
   "metadata": {},
   "outputs": [],
   "source": []
  }
 ],
 "metadata": {
  "kernelspec": {
   "display_name": "Python 3",
   "language": "python",
   "name": "python3"
  },
  "language_info": {
   "codemirror_mode": {
    "name": "ipython",
    "version": 3
   },
   "file_extension": ".py",
   "mimetype": "text/x-python",
   "name": "python",
   "nbconvert_exporter": "python",
   "pygments_lexer": "ipython3",
   "version": "3.7.7"
  }
 },
 "nbformat": 4,
 "nbformat_minor": 4
}
